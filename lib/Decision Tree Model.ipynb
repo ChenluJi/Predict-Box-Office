{
 "cells": [
  {
   "cell_type": "code",
   "execution_count": 87,
   "metadata": {
    "collapsed": false
   },
   "outputs": [],
   "source": [
    "from sklearn import tree\n",
    "from sklearn import preprocessing\n",
    "import pandas as pd\n",
    "import numpy as np\n",
    "from collections import Counter"
   ]
  },
  {
   "cell_type": "code",
   "execution_count": 21,
   "metadata": {
    "collapsed": false
   },
   "outputs": [],
   "source": [
    "table1 = pd.read_excel(\"Data Merged( Kaggle TMDB Studio, no NAs).xlsx\", index_col=0)"
   ]
  },
  {
   "cell_type": "code",
   "execution_count": null,
   "metadata": {
    "collapsed": true
   },
   "outputs": [],
   "source": [
    "# columns = ['studio', 'director_name','director_facebook_likes','num_critic_for_reviews','actor_1_facebook_likes',\n",
    "#            'actor_2_facebook_likes', 'actor_3_facebook_likes', 'cast_total_facebook_likes','genres','genres.1','Unnamed: 11',\n",
    "#            'Unnamed: 12','Unnamed: 13', 'Unnamed: 14','Unnamed: 15','num_voted_users','plot_keywords','Unnamed: 18','Unnamed: 19', \n",
    "#            'Unnamed: 20','Unnamed: 21', 'Unnamed: 22','num_user_for_reviews','imdb_score','aspect_ratio','movie_facebook_likes', \n",
    "#             nan, 'Year', 'Status','Language','Runtime', 'Budget','Annual Average Budget','Revenue','Annual Average Revenue',]"
   ]
  },
  {
   "cell_type": "code",
   "execution_count": 92,
   "metadata": {
    "collapsed": false
   },
   "outputs": [],
   "source": [
    "Y0 = list(table1['Revenue'])"
   ]
  },
  {
   "cell_type": "code",
   "execution_count": 112,
   "metadata": {
    "collapsed": false
   },
   "outputs": [],
   "source": [
    "# split into 9 levels\n",
    "Y = [];\n",
    "for y in Y0:\n",
    "    if y <= 1000000:\n",
    "        Y.append(0)\n",
    "    elif y > 1000000 and y <= 10000000:\n",
    "        Y.append(1)\n",
    "    elif y > 10000000 and y <= 20000000:\n",
    "        Y.append(2)\n",
    "    elif y > 20000000 and y <= 40000000:\n",
    "        Y.append(3)\n",
    "    elif y > 40000000 and y <= 65000000:\n",
    "        Y.append(4)\n",
    "    elif y > 64000000 and y <= 100000000:\n",
    "        Y.append(5)\n",
    "    elif y > 100000000 and y <= 150000000:\n",
    "        Y.append(6)\n",
    "    elif y > 150000000 and y <= 200000000:\n",
    "        Y.append(7)\n",
    "    else:\n",
    "        Y.append(8)"
   ]
  },
  {
   "cell_type": "code",
   "execution_count": 114,
   "metadata": {
    "collapsed": false
   },
   "outputs": [
    {
     "data": {
      "text/plain": [
       "dict_values([55, 200, 224, 345, 309, 302, 284, 192, 498])"
      ]
     },
     "execution_count": 114,
     "metadata": {},
     "output_type": "execute_result"
    }
   ],
   "source": [
    "#Counter(Y).keys()\n",
    "Counter(Y).values()"
   ]
  },
  {
   "cell_type": "code",
   "execution_count": 168,
   "metadata": {
    "collapsed": true
   },
   "outputs": [],
   "source": [
    "X0 = list(table1['studio'])"
   ]
  },
  {
   "cell_type": "code",
   "execution_count": 169,
   "metadata": {
    "collapsed": false
   },
   "outputs": [],
   "source": [
    "X1_0 = list(table1['Budget'])\n",
    "# split into 9 levelts\n",
    "X1 = [];\n",
    "for x in X1_0:\n",
    "    if x <= 1000000:\n",
    "        X1.append(0)\n",
    "    elif x > 1000000 and x <= 10000000:\n",
    "        X1.append(1)\n",
    "    elif x > 10000000 and x <= 20000000:\n",
    "        X1.append(2)\n",
    "    elif x > 20000000 and x <= 40000000:\n",
    "        X1.append(3)\n",
    "    elif x > 40000000 and x <= 65000000:\n",
    "        X1.append(4)\n",
    "    elif x > 64000000 and x <= 100000000:\n",
    "        X1.append(5)\n",
    "    elif x > 100000000 and x <= 150000000:\n",
    "        X1.append(6)\n",
    "    elif x > 150000000 and x <= 200000000:\n",
    "        X1.append(7)\n",
    "    else:\n",
    "        X1.append(8)"
   ]
  },
  {
   "cell_type": "code",
   "execution_count": 170,
   "metadata": {
    "collapsed": false
   },
   "outputs": [],
   "source": [
    "# X = table1[names].values.tolist()\n",
    "X0 = list(table1['studio'])\n",
    "s = pd.Series(X0)\n",
    "X = pd.get_dummies(s).values.tolist()\n",
    "s1 = pd.Series(X1)\n",
    "X1 = pd.get_dummies(s1).values.tolist()"
   ]
  },
  {
   "cell_type": "code",
   "execution_count": 171,
   "metadata": {
    "collapsed": false
   },
   "outputs": [],
   "source": [
    "for x,y in zip(X, X1):\n",
    "    x += y"
   ]
  },
  {
   "cell_type": "code",
   "execution_count": 193,
   "metadata": {
    "collapsed": true
   },
   "outputs": [],
   "source": [
    "Y_train = Y[100:]\n",
    "Y_test = Y[0:100]\n",
    "X_train = X[100:]\n",
    "X_test = X[0:100]"
   ]
  },
  {
   "cell_type": "code",
   "execution_count": 194,
   "metadata": {
    "collapsed": true
   },
   "outputs": [],
   "source": [
    "clf = tree.DecisionTreeClassifier()"
   ]
  },
  {
   "cell_type": "code",
   "execution_count": 195,
   "metadata": {
    "collapsed": false
   },
   "outputs": [],
   "source": [
    "clf_model = clf.fit(X_train, Y_train)"
   ]
  },
  {
   "cell_type": "code",
   "execution_count": 196,
   "metadata": {
    "collapsed": false
   },
   "outputs": [],
   "source": [
    "Pred = []\n",
    "for x in X_test:\n",
    "    Pred.append(clf.predict([x]))"
   ]
  },
  {
   "cell_type": "code",
   "execution_count": 197,
   "metadata": {
    "collapsed": false
   },
   "outputs": [],
   "source": [
    "Pred = clf.predict(X_test).tolist()"
   ]
  },
  {
   "cell_type": "code",
   "execution_count": 198,
   "metadata": {
    "collapsed": false
   },
   "outputs": [],
   "source": [
    "Compare = []\n",
    "for x, y in zip(Y_test, Pred):\n",
    "    if x == y:\n",
    "        Compare.append(1)\n",
    "    else:\n",
    "        Compare.append(0)"
   ]
  },
  {
   "cell_type": "code",
   "execution_count": 201,
   "metadata": {
    "collapsed": false
   },
   "outputs": [
    {
     "data": {
      "text/plain": [
       "0.56"
      ]
     },
     "execution_count": 201,
     "metadata": {},
     "output_type": "execute_result"
    }
   ],
   "source": [
    "precision = sum(Compare)/len(Compare)\n",
    "precision"
   ]
  },
  {
   "cell_type": "code",
   "execution_count": null,
   "metadata": {
    "collapsed": true
   },
   "outputs": [],
   "source": []
  }
 ],
 "metadata": {
  "kernelspec": {
   "display_name": "Python 3",
   "language": "python",
   "name": "python3"
  },
  "language_info": {
   "codemirror_mode": {
    "name": "ipython",
    "version": 3
   },
   "file_extension": ".py",
   "mimetype": "text/x-python",
   "name": "python",
   "nbconvert_exporter": "python",
   "pygments_lexer": "ipython3",
   "version": "3.5.1"
  }
 },
 "nbformat": 4,
 "nbformat_minor": 0
}
