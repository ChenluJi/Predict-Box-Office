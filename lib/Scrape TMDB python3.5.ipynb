{
 "cells": [
  {
   "cell_type": "code",
   "execution_count": 6,
   "metadata": {
    "collapsed": false
   },
   "outputs": [],
   "source": [
    "from bs4 import BeautifulSoup\n",
    "import urllib\n",
    "import pandas as pd\n",
    "from __future__ import unicode_literals\n",
    "from django.utils.encoding import smart_str"
   ]
  },
  {
   "cell_type": "code",
   "execution_count": 4,
   "metadata": {
    "collapsed": false
   },
   "outputs": [
    {
     "name": "stdout",
     "output_type": "stream",
     "text": [
      "Collecting django\n",
      "  Downloading Django-1.10.1-py2.py3-none-any.whl (6.8MB)\n",
      "\u001b[K    100% |████████████████████████████████| 6.8MB 116kB/s \n",
      "\u001b[?25hInstalling collected packages: django\n",
      "Successfully installed django-1.10.1\n",
      "\u001b[33mYou are using pip version 8.1.1, however version 8.1.2 is available.\n",
      "You should consider upgrading via the 'pip install --upgrade pip' command.\u001b[0m\n"
     ]
    }
   ],
   "source": [
    "! pip install django"
   ]
  },
  {
   "cell_type": "code",
   "execution_count": 11,
   "metadata": {
    "collapsed": false
   },
   "outputs": [],
   "source": [
    "url = []\n",
    "for page in range(980):\n",
    "    web = 'https://www.themoviedb.org/movie?page=' + str(page+1) + '&language=en'\n",
    "    html = urllib.request.urlopen(web).read()\n",
    "    soup = BeautifulSoup(html,'lxml')\n",
    "    table = soup.findAll('div','image_content')\n",
    "    for p in table:\n",
    "        a = p.findAll('a')\n",
    "        for a in a:\n",
    "            if a.has_attr('href'):\n",
    "                url.append(a['href']) "
   ]
  },
  {
   "cell_type": "code",
   "execution_count": 13,
   "metadata": {
    "collapsed": false
   },
   "outputs": [],
   "source": [
    "pp = url[0:5]\n",
    "df = pd.DataFrame()\n",
    "for link in pp:\n",
    "    web = 'https://www.themoviedb.org' + link\n",
    "    html = urllib.request.urlopen(web).read()\n",
    "    soup = BeautifulSoup(html,'lxml')\n",
    "\n",
    "    row = []\n",
    "    table = soup.find('div','title')\n",
    "    a = table.findAll('a')\n",
    "    for p in a:\n",
    "        row.append(p.get_text().strip())\n",
    "\n",
    "    table = soup.find(\"section\", 'facts left_column')\n",
    "    a = table.findAll('p')\n",
    "#result = [p.string for p in a] \n",
    "    for p in a:\n",
    "        value = p.get_text().strip()\n",
    "        row.append(value)\n",
    "\n",
    "    table = soup.find('section','top_billed')\n",
    "    a = table.findAll('p')\n",
    "    for p in a:\n",
    "        a = p.findAll('a')\n",
    "        for p in a:\n",
    "            value = p.get_text().strip()\n",
    "            row.append(value)\n",
    "    for x in range(len(row)):\n",
    "        row[x] = smart_str(row[x])\n",
    "    df1 = pd.DataFrame(row)\n",
    "    df = pd.concat([df,df1])"
   ]
  },
  {
   "cell_type": "code",
   "execution_count": 82,
   "metadata": {
    "collapsed": false,
    "scrolled": true
   },
   "outputs": [],
   "source": [
    "df.to_csv('/Users/JJason/Desktop/fuck.csv',index=False)"
   ]
  },
  {
   "cell_type": "code",
   "execution_count": null,
   "metadata": {
    "collapsed": true
   },
   "outputs": [],
   "source": []
  }
 ],
 "metadata": {
  "kernelspec": {
   "display_name": "Python 3",
   "language": "python",
   "name": "python3"
  },
  "language_info": {
   "codemirror_mode": {
    "name": "ipython",
    "version": 3
   },
   "file_extension": ".py",
   "mimetype": "text/x-python",
   "name": "python",
   "nbconvert_exporter": "python",
   "pygments_lexer": "ipython3",
   "version": "3.5.1"
  }
 },
 "nbformat": 4,
 "nbformat_minor": 0
}
