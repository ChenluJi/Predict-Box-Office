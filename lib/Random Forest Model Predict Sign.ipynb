{
 "cells": [
  {
   "cell_type": "markdown",
   "metadata": {},
   "source": [
    "# Random Forest"
   ]
  },
  {
   "cell_type": "code",
   "execution_count": 57,
   "metadata": {
    "collapsed": false
   },
   "outputs": [],
   "source": [
    "%matplotlib inline\n",
    "from sklearn import tree\n",
    "from sklearn.ensemble import RandomForestClassifier\n",
    "from sklearn.ensemble import ExtraTreesClassifier\n",
    "from sklearn.model_selection import cross_val_score\n",
    "from sklearn import preprocessing\n",
    "import matplotlib.pyplot as plt\n",
    "import pandas as pd\n",
    "import numpy as np\n",
    "from collections import Counter\n",
    "import pydotplus \n",
    "from io import StringIO\n",
    "from IPython.display import display, Image\n",
    "from sklearn.externals.six import StringIO\n",
    "import random\n",
    "import seaborn as sns\n",
    "import time"
   ]
  },
  {
   "cell_type": "code",
   "execution_count": 58,
   "metadata": {
    "collapsed": false
   },
   "outputs": [],
   "source": [
    "sns.set_style('whitegrid')\n",
    "sns.set(color_codes=True)"
   ]
  },
  {
   "cell_type": "code",
   "execution_count": 59,
   "metadata": {
    "collapsed": true
   },
   "outputs": [],
   "source": [
    "# split into 9 levels\n",
    "def MoneyToCate(input_list):\n",
    "    out = [];\n",
    "    for m in input_list:\n",
    "        if m <= 1000000:\n",
    "            out.append(0)\n",
    "        elif m > 1000000 and m <= 10000000:\n",
    "            out.append(1)\n",
    "        elif m > 10000000 and m <= 20000000:\n",
    "            out.append(2)\n",
    "        elif m > 20000000 and m <= 40000000:\n",
    "            out.append(3)\n",
    "        elif m > 40000000 and m <= 65000000:\n",
    "            out.append(4)\n",
    "        elif m > 64000000 and m <= 100000000:\n",
    "            out.append(5)\n",
    "        elif m > 100000000 and m <= 150000000:\n",
    "            out.append(6)\n",
    "        elif m > 150000000 and m <= 200000000:\n",
    "            out.append(7)\n",
    "        else:\n",
    "            out.append(8)\n",
    "    return(out)"
   ]
  },
  {
   "cell_type": "code",
   "execution_count": 60,
   "metadata": {
    "collapsed": true
   },
   "outputs": [],
   "source": [
    "def Bag(input_list, bag_list):\n",
    "    n = len(bag_list)\n",
    "    output = []\n",
    "    for obs in input_list:\n",
    "        feature = [0]*n\n",
    "        for word in bag_list:\n",
    "            if word in obs:\n",
    "                feature[bag_list.index(word)] = 1\n",
    "        output.append(feature)\n",
    "    return output"
   ]
  },
  {
   "cell_type": "code",
   "execution_count": 61,
   "metadata": {
    "collapsed": false
   },
   "outputs": [
    {
     "data": {
      "text/plain": [
       "Index([                   'studio',             'director_name',\n",
       "         'director_facebook_likes',    'num_critic_for_reviews',\n",
       "          'actor_1_facebook_likes',    'actor_2_facebook_likes',\n",
       "          'actor_3_facebook_likes', 'cast_total_facebook_likes',\n",
       "                          'genres',                  'genres.1',\n",
       "                     'Unnamed: 11',               'Unnamed: 12',\n",
       "                     'Unnamed: 13',               'Unnamed: 14',\n",
       "                     'Unnamed: 15',           'num_voted_users',\n",
       "                   'plot_keywords',               'Unnamed: 18',\n",
       "                     'Unnamed: 19',               'Unnamed: 20',\n",
       "                     'Unnamed: 21',               'Unnamed: 22',\n",
       "            'num_user_for_reviews',                'imdb_score',\n",
       "                    'aspect_ratio',      'movie_facebook_likes',\n",
       "                          'rating',                      'Year',\n",
       "                          'Status',                  'Language',\n",
       "                         'Runtime',                    'Budget',\n",
       "           'Annual Average Budget',                   'Revenue',\n",
       "          'Annual Average Revenue',                           8,\n",
       "                                 9,                          10,\n",
       "                                11,                          12,\n",
       "                                13],\n",
       "      dtype='object')"
      ]
     },
     "execution_count": 61,
     "metadata": {},
     "output_type": "execute_result"
    }
   ],
   "source": [
    "table1 = pd.read_excel(\"Data Merged( Kaggle TMDB Studio, no NAs).xlsx\", index_col=0)\n",
    "table1.columns"
   ]
  },
  {
   "cell_type": "code",
   "execution_count": 62,
   "metadata": {
    "collapsed": true
   },
   "outputs": [],
   "source": [
    "genre = np.matrix(table1[['genres.1', 'Unnamed: 11', 'Unnamed: 12', 'Unnamed: 13', 'Unnamed: 14', 'Unnamed: 15']]).tolist()\n",
    "bag_genre = list(set([val for sublist in genre for val in sublist]))\n",
    "bag_genre.remove(bag_genre[0])"
   ]
  },
  {
   "cell_type": "code",
   "execution_count": 63,
   "metadata": {
    "collapsed": true
   },
   "outputs": [],
   "source": [
    "keywords = np.matrix(table1[['Unnamed: 18', 'Unnamed: 19', 'Unnamed: 20', 'Unnamed: 21', 'Unnamed: 22']]).tolist()\n",
    "bag_keywords = list(set([val for sublist in keywords for val in sublist]))\n",
    "bag_keywords.remove(bag_keywords[0])"
   ]
  },
  {
   "cell_type": "code",
   "execution_count": 64,
   "metadata": {
    "collapsed": false
   },
   "outputs": [],
   "source": [
    "actor = np.matrix(table1[[8, 9, 10, 11, 12, 13]]).tolist()\n",
    "bag_actor = list(set([val for sublist in actor for val in sublist]))\n",
    "bag_actor.remove(bag_actor[0])"
   ]
  },
  {
   "cell_type": "code",
   "execution_count": 65,
   "metadata": {
    "collapsed": false
   },
   "outputs": [
    {
     "name": "stderr",
     "output_type": "stream",
     "text": [
      "/Users/admin/anaconda/lib/python3.5/site-packages/ipykernel/__main__.py:2: SettingWithCopyWarning: \n",
      "A value is trying to be set on a copy of a slice from a DataFrame\n",
      "\n",
      "See the caveats in the documentation: http://pandas.pydata.org/pandas-docs/stable/indexing.html#indexing-view-versus-copy\n",
      "  from ipykernel import kernelapp as app\n"
     ]
    }
   ],
   "source": [
    "table1['Sign'] = np.sign(np.subtract(table1['Revenue'], table1['Annual Average Revenue']))\n",
    "table1['Sign'][table1['Sign']==0] = 1\n",
    "#table1['Sign'][table1['Sign']==-1] = 0\n",
    "# table1['Revenue'] = MoneyToCate(list(table1['Revenue']))\n",
    "table1['Budget'] = MoneyToCate(list(table1['Budget']))\n",
    "table1['Annual Average Revenue'] = MoneyToCate(list(table1['Annual Average Revenue']))\n",
    "table1_director_name = pd.get_dummies(table1['director_name']).values\n",
    "table1_genres = Bag(genre, bag_genre)\n",
    "table1_keywords = Bag(keywords, bag_keywords)\n",
    "table1_actor = Bag(actor, bag_actor)\n",
    "table1_studio = pd.get_dummies(table1['studio']).values\n",
    "table1_rating = pd.get_dummies(table1['rating']).values\n",
    "table1_Language = pd.get_dummies(table1['Language']).values\n",
    "table1 = table1.drop(['genres', 'genres.1', 'Unnamed: 11', 'Unnamed: 12', 'Unnamed: 13', 'Unnamed: 14', 'Unnamed: 15',\n",
    "                      'plot_keywords', 'Annual Average Budget', 'Revenue', 'Annual Average Revenue',\n",
    "                      'Unnamed: 18', 'Unnamed: 19', 'Unnamed: 20', 'Unnamed: 21', 'Unnamed: 22', 'rating', 'Status', 'Runtime', \n",
    "                      8, 9, 10, 11, 12, 13, 'director_name', 'studio', 'Language'], axis=1)\n",
    "table2 = table1.drop('Sign', axis=1)"
   ]
  },
  {
   "cell_type": "code",
   "execution_count": 56,
   "metadata": {
    "collapsed": false
   },
   "outputs": [
    {
     "data": {
      "text/plain": [
       "99"
      ]
     },
     "execution_count": 56,
     "metadata": {},
     "output_type": "execute_result"
    }
   ],
   "source": [
    "len(Counter(table1['studio']))"
   ]
  },
  {
   "cell_type": "code",
   "execution_count": 66,
   "metadata": {
    "collapsed": false
   },
   "outputs": [
    {
     "data": {
      "text/plain": [
       "(2409, 11942)"
      ]
     },
     "execution_count": 66,
     "metadata": {},
     "output_type": "execute_result"
    }
   ],
   "source": [
    "Y = table1['Sign']\n",
    "X = np.column_stack([table2, table1_director_name, table1_genres, table1_keywords, table1_actor, table1_studio, \n",
    "                     table1_rating, table1_Language])\n",
    "X.shape"
   ]
  },
  {
   "cell_type": "code",
   "execution_count": 49,
   "metadata": {
    "collapsed": false
   },
   "outputs": [
    {
     "data": {
      "text/plain": [
       "Index(['director_facebook_likes', 'num_critic_for_reviews',\n",
       "       'actor_1_facebook_likes', 'actor_2_facebook_likes',\n",
       "       'actor_3_facebook_likes', 'cast_total_facebook_likes',\n",
       "       'num_voted_users', 'num_user_for_reviews', 'imdb_score', 'aspect_ratio',\n",
       "       'movie_facebook_likes', 'Year', 'Budget'],\n",
       "      dtype='object')"
      ]
     },
     "execution_count": 49,
     "metadata": {},
     "output_type": "execute_result"
    }
   ],
   "source": [
    "table2.columns"
   ]
  },
  {
   "cell_type": "code",
   "execution_count": null,
   "metadata": {
    "collapsed": true
   },
   "outputs": [],
   "source": [
    "director_facebook_likes: 1\n",
    "num_critic_for_reviews: 2\n",
    "actor_1_facebook_likes: 3\n",
    "actor_2_facebook_likes: 4\n",
    "actor_3_facebook_likes: 5\n",
    "cast_total_facebook_likes: 6\n",
    "num_voted_users: 7\n",
    "num_user_for_reviews: 8\n",
    "imdb_score: 9\n",
    "aspect_ratio: 10\n",
    "movie_facebook_likes: 11\n",
    "Year: 12\n",
    "Budget: 13\n",
    "table1_director_name: 14-1091 (1078)\n",
    "table1_genres: 1092-1114 (23)\n",
    "table1_keywords: 1115-6226 (5112)\n",
    "table1_actor: 6227-11819 (5593)\n",
    "table1_studio: 11820-11918 (99)\n",
    "table1_rating: 11919-11931 (13)\n",
    "table1_Language: 11932-11942 (11)"
   ]
  },
  {
   "cell_type": "code",
   "execution_count": 46,
   "metadata": {
    "collapsed": false
   },
   "outputs": [
    {
     "data": {
      "text/plain": [
       "[(2409, 13), (2409, 1078), 23, 5112, 5593, (2409, 99), (2409, 13), (2409, 11)]"
      ]
     },
     "execution_count": 46,
     "metadata": {},
     "output_type": "execute_result"
    }
   ],
   "source": [
    "[table2.shape, table1_director_name.shape, len(table1_genres[0]), len(table1_keywords[0]), len(table1_actor[0]), \n",
    " table1_studio.shape, table1_rating.shape, table1_Language.shape]"
   ]
  },
  {
   "cell_type": "code",
   "execution_count": 35,
   "metadata": {
    "collapsed": false
   },
   "outputs": [
    {
     "data": {
      "text/plain": [
       "Counter({'Action': 704,\n",
       "         'Adventure': 587,\n",
       "         'Animation': 149,\n",
       "         'Biography': 164,\n",
       "         'Comedy': 901,\n",
       "         'Crime': 462,\n",
       "         'Documentary': 15,\n",
       "         'Drama': 1136,\n",
       "         'Family': 301,\n",
       "         'Fantasy': 342,\n",
       "         'Film-Noir': 3,\n",
       "         'History': 101,\n",
       "         'Horror': 225,\n",
       "         'Music': 89,\n",
       "         'Musical': 48,\n",
       "         'Mystery': 271,\n",
       "         'News': 1,\n",
       "         'Romance': 523,\n",
       "         'Sci-Fi': 361,\n",
       "         'Sport': 94,\n",
       "         'Thriller': 781,\n",
       "         'War': 100,\n",
       "         'Western': 41})"
      ]
     },
     "execution_count": 35,
     "metadata": {},
     "output_type": "execute_result"
    }
   ],
   "source": [
    "# all genres and counts\n",
    "Allgenres = list([val for sublist in genre for val in sublist])\n",
    "Allgenres = Counter(Allgenres)\n",
    "del Allgenres[list(Allgenres.keys())[0]]\n",
    "Allgenres"
   ]
  },
  {
   "cell_type": "code",
   "execution_count": 24,
   "metadata": {
    "collapsed": false
   },
   "outputs": [
    {
     "data": {
      "image/png": "[encoded data removed]",
      "text/plain": [
       "<matplotlib.figure.Figure at 0x123ba4be0>"
      ]
     },
     "metadata": {},
     "output_type": "display_data"
    }
   ],
   "source": [
    "plt.plot(table1['Year'], table1['Sign'], 'ro')\n",
    "plt.show()"
   ]
  },
  {
   "cell_type": "code",
   "execution_count": 25,
   "metadata": {
    "collapsed": false
   },
   "outputs": [
    {
     "data": {
      "image/png": "[encoded data removed]",
      "text/plain": [
       "<matplotlib.figure.Figure at 0x1155d9d68>"
      ]
     },
     "metadata": {},
     "output_type": "display_data"
    }
   ],
   "source": [
    "plt.plot(table1['Budget'], table1['Sign'], 'ro')\n",
    "plt.show()"
   ]
  },
  {
   "cell_type": "code",
   "execution_count": 26,
   "metadata": {
    "collapsed": false
   },
   "outputs": [
    {
     "name": "stdout",
     "output_type": "stream",
     "text": [
      "[0, 0.70776045755298866]\n",
      "[1, 0.7185522899215846]\n",
      "[2, 0.73600469285116588]\n",
      "[3, 0.72021462892832189]\n",
      "[4, 0.72477980693748323]\n",
      "[5, 0.72810448495095792]\n",
      "[6, 0.74594163266362434]\n",
      "[7, 0.7555119434787485]\n",
      "[8, 0.74554049740771733]\n",
      "[9, 0.75715875466912808]\n",
      "[10, 0.75258667540825219]\n",
      "[11, 0.75218036421355916]\n",
      "[12, 0.76088888122083131]\n",
      "[13, 0.75881160445475793]\n",
      "[14, 0.74594853391533888]\n",
      "[15, 0.75175938785897289]\n",
      "[16, 0.75051716255035761]\n",
      "[17, 0.74760483432682601]\n",
      "[18, 0.7571527160738778]\n",
      "[19, 0.75341913889631729]\n"
     ]
    }
   ],
   "source": [
    "# Cross-Validation for selecting max_features\n",
    "score_decision = []\n",
    "for i in range(20):\n",
    "    clf = tree.DecisionTreeClassifier(max_features=(i+1)/20, random_state=0)\n",
    "    score = cross_val_score(clf, X, Y, cv=5).mean()\n",
    "    score_decision.append(score)\n",
    "    print([i, score]) "
   ]
  },
  {
   "cell_type": "code",
   "execution_count": 27,
   "metadata": {
    "collapsed": false
   },
   "outputs": [],
   "source": [
    "max_feature = [(x+1)/20 for x in range(20)]\n",
    "DecisionTree = pd.DataFrame()\n",
    "DecisionTree[\"max_features\"] = max_feature\n",
    "DecisionTree[\"precision\"] = score_decision\n",
    "DecisionTree.to_csv(\"Decision Tree Precision.csv\")"
   ]
  },
  {
   "cell_type": "code",
   "execution_count": 29,
   "metadata": {
    "collapsed": false
   },
   "outputs": [
    {
     "data": {
      "image/png": "[encoded data removed]",
      "text/plain": [
       "<matplotlib.figure.Figure at 0x11b347860>"
      ]
     },
     "metadata": {},
     "output_type": "display_data"
    }
   ],
   "source": [
    "plt.plot(max_feature, score_decision, 'r.')\n",
    "plt.xlabel('Max Features')\n",
    "plt.ylabel('Precision')\n",
    "plt.title('5-fold Cross Validation Precision of Decision Tree Model: Compared with Average')\n",
    "plt.savefig('DecisionTree Compared with Average.pdf')\n",
    "plt.show()"
   ]
  },
  {
   "cell_type": "code",
   "execution_count": 32,
   "metadata": {
    "collapsed": false
   },
   "outputs": [
    {
     "data": {
      "text/plain": [
       "<matplotlib.figure.Figure at 0x19f2f3518>"
      ]
     },
     "metadata": {},
     "output_type": "display_data"
    }
   ],
   "source": [
    "clf = tree.DecisionTreeClassifier(max_features=0.5, random_state=0)\n",
    "clf.fit(X, Y)\n",
    "dot_data = StringIO()\n",
    "tree.export_graphviz(clf, out_file=dot_data,\n",
    "                     class_names=[\"Lower than Average\", \"Higher than Average\"],\n",
    "                     filled=True, rounded=True,\n",
    "                     special_characters=True)\n",
    "graph = pydotplus.graph_from_dot_data(dot_data.getvalue())\n",
    "graph.write_png('Decision Tree Compared with Average.png')\n",
    "#plt.savefig('Decision Tree Compared with Average.pdf')\n",
    "#display(Image(graph.create_png()))"
   ]
  },
  {
   "cell_type": "code",
   "execution_count": 67,
   "metadata": {
    "collapsed": false
   },
   "outputs": [
    {
     "name": "stdout",
     "output_type": "stream",
     "text": [
      "0: 0.73015674468\n",
      "1: 0.737631662943\n",
      "2: 0.745931280786\n",
      "3: 0.746344493232\n",
      "4: 0.746760293648\n",
      "5: 0.749248194891\n",
      "6: 0.751322883688\n",
      "7: 0.74634276792\n",
      "8: 0.747587581198\n",
      "9: 0.746341905263\n",
      "10: 0.743438203604\n",
      "11: 0.746344493232\n",
      "12: 0.748419182029\n",
      "13: 0.748419182029\n",
      "14: 0.750495596139\n",
      "15: 0.750081521036\n",
      "16: 0.749666583277\n",
      "17: 0.747591031823\n",
      "18: 0.747591031823\n",
      "19: 0.748834982445\n",
      "20: 0.749249920204\n",
      "21: 0.748834119788\n",
      "22: 0.748418319373\n",
      "23: 0.749663132651\n",
      "24: 0.749661407338\n",
      "25: 0.749663132651\n",
      "26: 0.75007807041\n",
      "27: 0.751738684104\n",
      "28: 0.752153621863\n",
      "29: 0.750493870826\n",
      "30: 0.749249057548\n",
      "31: 0.750078933066\n",
      "32: 0.750908808585\n",
      "33: 0.750493870826\n",
      "34: 0.750493870826\n",
      "35: 0.751323746344\n",
      "36: 0.750493008169\n",
      "37: 0.750493008169\n",
      "38: 0.75007807041\n",
      "39: 0.749664857964\n",
      "40: 0.750495596139\n",
      "41: 0.751324609001\n",
      "42: 0.751324609001\n",
      "43: 0.750078933066\n",
      "44: 0.750494733482\n",
      "45: 0.750909671242\n",
      "46: 0.750908808585\n",
      "47: 0.750493870826\n",
      "48: 0.750493870826\n",
      "49: 0.749247332235\n",
      "Time elapsed: 7048.424377202988sec.\n",
      "\n"
     ]
    },
    {
     "data": {
      "image/png": "[encoded data removed]",
      "text/plain": [
       "<matplotlib.figure.Figure at 0x1a0785470>"
      ]
     },
     "metadata": {},
     "output_type": "display_data"
    }
   ],
   "source": [
    "# Cross-Validation for selecting n_estimators \n",
    "start = time.time()\n",
    "score = []\n",
    "for i in range(50):\n",
    "    clf = RandomForestClassifier(n_estimators=10*(i+1), min_samples_split=2, random_state=0)\n",
    "    scores = cross_val_score(clf, X, Y, cv=5)\n",
    "    score.append(scores.mean())\n",
    "    print(str(i) + \": \" + str(scores.mean()))\n",
    "print(\"Time elapsed: \" + str(time.time()-start) + \"sec.\\n\")\n",
    "plt.plot(range(50), score, 'r.')\n",
    "plt.show()"
   ]
  },
  {
   "cell_type": "code",
   "execution_count": 68,
   "metadata": {
    "collapsed": false
   },
   "outputs": [],
   "source": [
    "n_estimators = [10*(x+1) for x in range(50)]\n",
    "RandomForest = pd.DataFrame()\n",
    "RandomForest[\"n_estimators\"] = n_estimators\n",
    "RandomForest[\"precision\"] = score\n",
    "RandomForest.to_csv(\"Random Forest Precision Compared with Average.csv\")"
   ]
  },
  {
   "cell_type": "code",
   "execution_count": 69,
   "metadata": {
    "collapsed": false
   },
   "outputs": [
    {
     "data": {
      "image/png": "[encoded data removed]",
      "text/plain": [
       "<matplotlib.figure.Figure at 0x11817ad30>"
      ]
     },
     "metadata": {},
     "output_type": "display_data"
    }
   ],
   "source": [
    "plt.plot(n_estimators, score, 'r.')\n",
    "plt.xlabel('Number of Estimators')\n",
    "plt.ylabel('Precision')\n",
    "plt.title('5-fold Cross Validation Precision of Random Forest Model Compared with Average')\n",
    "plt.savefig('RandomForest Compared with Average.pdf')\n",
    "plt.show()"
   ]
  },
  {
   "cell_type": "code",
   "execution_count": null,
   "metadata": {
    "collapsed": false
   },
   "outputs": [],
   "source": [
    "# Cross-Validation for selecting n_estimators and max_feature\n",
    "start = time.time()\n",
    "scores = []\n",
    "n_estimators = []\n",
    "max_features = []\n",
    "for i in range(25):\n",
    "    for j in range(5):\n",
    "        clf = RandomForestClassifier(n_estimators=20*(i+1), max_features=(j+1)/5, min_samples_split=2, random_state=0)\n",
    "        score = cross_val_score(clf, X, Y, cv=5).mean()\n",
    "        n_estimators.append(i)\n",
    "        max_features.append(j)\n",
    "        scores.append(score)\n",
    "        print([i, j, score])\n",
    "print(\"Time elapsed: \" + str(time.time()-start) + \"sec.\\n\")"
   ]
  },
  {
   "cell_type": "code",
   "execution_count": 107,
   "metadata": {
    "collapsed": false
   },
   "outputs": [
    {
     "data": {
      "text/plain": [
       "0.29015140787034766"
      ]
     },
     "execution_count": 107,
     "metadata": {},
     "output_type": "execute_result"
    }
   ],
   "source": [
    "clf = RandomForestClassifier(n_estimators=250, min_samples_split=2, random_state=0)\n",
    "scores = cross_val_score(clf, X, Y, cv=5)\n",
    "scores.mean()"
   ]
  },
  {
   "cell_type": "code",
   "execution_count": 50,
   "metadata": {
    "collapsed": false
   },
   "outputs": [
    {
     "data": {
      "text/plain": [
       "0.32124161679559576"
      ]
     },
     "execution_count": 50,
     "metadata": {},
     "output_type": "execute_result"
    }
   ],
   "source": [
    "clf = ExtraTreesClassifier(n_estimators=220, max_depth=None,\n",
    "     min_samples_split=2, random_state=0)\n",
    "scores = cross_val_score(clf, X, Y, cv=5)\n",
    "scores.mean()"
   ]
  }
 ],
 "metadata": {
  "kernelspec": {
   "display_name": "Python 3",
   "language": "python",
   "name": "python3"
  },
  "language_info": {
   "codemirror_mode": {
    "name": "ipython",
    "version": 3
   },
   "file_extension": ".py",
   "mimetype": "text/x-python",
   "name": "python",
   "nbconvert_exporter": "python",
   "pygments_lexer": "ipython3",
   "version": "3.5.1"
  }
 },
 "nbformat": 4,
 "nbformat_minor": 0
}
