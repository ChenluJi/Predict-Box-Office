{
 "cells": [
  {
   "cell_type": "markdown",
   "metadata": {},
   "source": [
    "# Decision tree: four trees with majority vote"
   ]
  },
  {
   "cell_type": "code",
   "execution_count": 266,
   "metadata": {
    "collapsed": false
   },
   "outputs": [],
   "source": [
    "from sklearn import tree\n",
    "from sklearn import preprocessing\n",
    "import pandas as pd\n",
    "import numpy as np\n",
    "from collections import Counter"
   ]
  },
  {
   "cell_type": "code",
   "execution_count": 21,
   "metadata": {
    "collapsed": false
   },
   "outputs": [],
   "source": [
    "table1 = pd.read_excel(\"Data Merged( Kaggle TMDB Studio, no NAs).xlsx\", index_col=0)"
   ]
  },
  {
   "cell_type": "code",
   "execution_count": null,
   "metadata": {
    "collapsed": true
   },
   "outputs": [],
   "source": [
    "# columns = ['studio', 'director_name','director_facebook_likes','num_critic_for_reviews','actor_1_facebook_likes',\n",
    "#            'actor_2_facebook_likes', 'actor_3_facebook_likes', 'cast_total_facebook_likes','genres','genres.1','Unnamed: 11',\n",
    "#            'Unnamed: 12','Unnamed: 13', 'Unnamed: 14','Unnamed: 15','num_voted_users','plot_keywords','Unnamed: 18','Unnamed: 19', \n",
    "#            'Unnamed: 20','Unnamed: 21', 'Unnamed: 22','num_user_for_reviews','imdb_score','aspect_ratio','movie_facebook_likes', \n",
    "#             nan, 'Year', 'Status','Language','Runtime', 'Budget','Annual Average Budget','Revenue','Annual Average Revenue',]"
   ]
  },
  {
   "cell_type": "code",
   "execution_count": 423,
   "metadata": {
    "collapsed": false
   },
   "outputs": [],
   "source": [
    "#table1.columns"
   ]
  },
  {
   "cell_type": "code",
   "execution_count": 367,
   "metadata": {
    "collapsed": true
   },
   "outputs": [],
   "source": [
    "# split into 9 levels\n",
    "def MoneyToCate(input_list):\n",
    "    out = [];\n",
    "    for m in input_list:\n",
    "        if m <= 1000000:\n",
    "            out.append(0)\n",
    "        elif m > 1000000 and m <= 10000000:\n",
    "            out.append(1)\n",
    "        elif m > 10000000 and m <= 20000000:\n",
    "            out.append(2)\n",
    "        elif m > 20000000 and m <= 40000000:\n",
    "            out.append(3)\n",
    "        elif m > 40000000 and m <= 65000000:\n",
    "            out.append(4)\n",
    "        elif m > 64000000 and m <= 100000000:\n",
    "            out.append(5)\n",
    "        elif m > 100000000 and m <= 150000000:\n",
    "            out.append(6)\n",
    "        elif m > 150000000 and m <= 200000000:\n",
    "            out.append(7)\n",
    "        else:\n",
    "            out.append(8)\n",
    "    return(out)"
   ]
  },
  {
   "cell_type": "code",
   "execution_count": 368,
   "metadata": {
    "collapsed": true
   },
   "outputs": [],
   "source": [
    "# list the element in a list, applied to non-nested list\n",
    "def Nested(inputlist):\n",
    "    new_list = []\n",
    "    for x in inputlist:\n",
    "        new_list.append([x])\n",
    "    return(new_list)"
   ]
  },
  {
   "cell_type": "code",
   "execution_count": 384,
   "metadata": {
    "collapsed": true
   },
   "outputs": [],
   "source": [
    "# majority vote\n",
    "def Majority(pred_tuple, weight_list):\n",
    "    pred_major = []\n",
    "    for pred in pred_tuple:\n",
    "        pred_dic = {}\n",
    "        for yhat, w in zip(pred, weight_list):\n",
    "            if yhat in pred_dic:\n",
    "                pred_dic[yhat] += w\n",
    "            else:\n",
    "                pred_dic[yhat] = w\n",
    "        maxium = max(pred_dic, key=pred_dic.get)\n",
    "        pred_major.append(maxium)\n",
    "#         print(pred)\n",
    "#         print(maxium)\n",
    "    return(pred_major)"
   ]
  },
  {
   "cell_type": "code",
   "execution_count": null,
   "metadata": {
    "collapsed": true
   },
   "outputs": [],
   "source": [
    "def run_model(X_train, Y_train, X_test, Y_test):\n",
    "    Compare = []\n",
    "    clf = tree.DecisionTreeClassifier()\n",
    "    clf.fit(X_train, Y_train)\n",
    "    Pred = clf.predict(X_test).tolist()\n",
    "    for x, y in zip(Y_test, Pred):\n",
    "        if x == y:\n",
    "            Compare.append(1)\n",
    "        else:\n",
    "            Compare.append(0)\n",
    "    precision = sum(Compare)/len(Compare)\n",
    "    return([Pred, Compare, precision])"
   ]
  },
  {
   "cell_type": "code",
   "execution_count": 422,
   "metadata": {
    "collapsed": false
   },
   "outputs": [
    {
     "data": {
      "text/plain": [
       "dict_values([55, 200, 224, 345, 309, 302, 284, 192, 498])"
      ]
     },
     "execution_count": 422,
     "metadata": {},
     "output_type": "execute_result"
    }
   ],
   "source": [
    "#Counter(Y).keys()\n",
    "Counter(Y).values()"
   ]
  },
  {
   "cell_type": "code",
   "execution_count": 442,
   "metadata": {
    "collapsed": true
   },
   "outputs": [],
   "source": [
    "X2 = Nested(X2)"
   ]
  },
  {
   "cell_type": "code",
   "execution_count": 452,
   "metadata": {
    "collapsed": false
   },
   "outputs": [],
   "source": [
    "Y0 = list(table1['Revenue'])\n",
    "Y = MoneyToCate(Y0)\n",
    "X0 = list(table1['studio'])\n",
    "X1_0 = list(table1['Budget'])\n",
    "# split into 9 levelts\n",
    "X1 = MoneyToCate(X1_0)\n",
    "X1 = Nested(X1)\n",
    "X2 = list(table1['Year'])\n",
    "X2 = Nested(X2)\n",
    "X3_0 = list(table1['Annual Average Revenue'])\n",
    "# split into 9 levelts\n",
    "X3 = MoneyToCate(X3_0)\n",
    "X3 = Nested(X3)"
   ]
  },
  {
   "cell_type": "code",
   "execution_count": 453,
   "metadata": {
    "collapsed": false
   },
   "outputs": [],
   "source": [
    "s0 = pd.Series(X0)\n",
    "X0 = pd.get_dummies(s0).values.tolist()\n",
    "# s1 = pd.Series(X1)\n",
    "# X1 = pd.get_dummies(s1).values.tolist()\n",
    "# \n",
    "# #s2 = pd.Series(X2)\n",
    "# #X2 = pd.get_dummies(s2).values.tolist()\n",
    "# s3 = pd.Series(X3)\n",
    "# X3 = pd.get_dummies(s3).values.tolist()"
   ]
  },
  {
   "cell_type": "code",
   "execution_count": 420,
   "metadata": {
    "collapsed": false
   },
   "outputs": [],
   "source": [
    "# combine some futures\n",
    "# i = 0\n",
    "# for x,y,z,m in zip(X0, X1, X2, X3):\n",
    "#     X1[i] = x + y\n",
    "#     X2[i] = x + y + z\n",
    "#     X3[i] = x + y + z + m\n",
    "#     i += 1"
   ]
  },
  {
   "cell_type": "code",
   "execution_count": 454,
   "metadata": {
    "collapsed": true
   },
   "outputs": [],
   "source": [
    "Y_train = Y[100:]\n",
    "Y_test = Y[0:100]\n",
    "X0_train = X0[100:]\n",
    "X0_test = X0[0:100]\n",
    "X1_train = X1[100:]\n",
    "X1_test = X1[0:100]\n",
    "X2_train = X2[100:]\n",
    "X2_test = X2[0:100]\n",
    "X3_train = X3[100:]\n",
    "X3_test = X3[0:100]"
   ]
  },
  {
   "cell_type": "code",
   "execution_count": 455,
   "metadata": {
    "collapsed": false
   },
   "outputs": [],
   "source": [
    "model0 = run_model(X0_train, Y_train, X0_test, Y_test)\n",
    "Pred0 = model0[0]\n",
    "Compare0 = model0[1]\n",
    "precision0 = model0[2]\n",
    "\n",
    "model1 = run_model(X1_train, Y_train, X1_test, Y_test)\n",
    "Pred1 = model1[0]\n",
    "Compare1 = model1[1]\n",
    "precision1 = model1[2]\n",
    "\n",
    "model2 = run_model(X2_train, Y_train, X2_test, Y_test)\n",
    "Pred2 = model2[0]\n",
    "Compare2 = model2[1]\n",
    "precision2 = model2[2]\n",
    "\n",
    "model3 = run_model(X3_train, Y_train, X3_test, Y_test)\n",
    "Pred3 = model3[0]\n",
    "Compare3 = model3[1]\n",
    "precision3 = model3[2]"
   ]
  },
  {
   "cell_type": "code",
   "execution_count": 398,
   "metadata": {
    "collapsed": false
   },
   "outputs": [],
   "source": [
    "#list(zip(Pred, Pred1, Pred2, Pred3, Y_test, Pred_final, Compare_final))"
   ]
  },
  {
   "cell_type": "code",
   "execution_count": 456,
   "metadata": {
    "collapsed": false
   },
   "outputs": [],
   "source": [
    "Pred_final = Majority(zip(Pred0, Pred1, Pred2, Pred3), [precision0, precision1, precision2, precision3])\n",
    "Compare_final = []\n",
    "for x, y in zip(Y_test, Pred_final):\n",
    "    if x == y:\n",
    "        Compare_final.append(1)\n",
    "    else:\n",
    "        Compare_final.append(0)"
   ]
  },
  {
   "cell_type": "code",
   "execution_count": 457,
   "metadata": {
    "collapsed": false
   },
   "outputs": [
    {
     "data": {
      "text/plain": [
       "[0.6, 0.6, 0.39, 0.42, 0.65]"
      ]
     },
     "execution_count": 457,
     "metadata": {},
     "output_type": "execute_result"
    }
   ],
   "source": [
    "precision_final = sum(Compare_final)/len(Compare_final)\n",
    "[precision, precision1, precision2, precision3, precision_final]"
   ]
  },
  {
   "cell_type": "code",
   "execution_count": null,
   "metadata": {
    "collapsed": true
   },
   "outputs": [],
   "source": []
  }
 ],
 "metadata": {
  "kernelspec": {
   "display_name": "Python 3",
   "language": "python",
   "name": "python3"
  },
  "language_info": {
   "codemirror_mode": {
    "name": "ipython",
    "version": 3
   },
   "file_extension": ".py",
   "mimetype": "text/x-python",
   "name": "python",
   "nbconvert_exporter": "python",
   "pygments_lexer": "ipython3",
   "version": "3.5.1"
  }
 },
 "nbformat": 4,
 "nbformat_minor": 0
}
