{
 "cells": [
  {
   "cell_type": "code",
   "execution_count": 1,
   "metadata": {
    "collapsed": true
   },
   "outputs": [],
   "source": [
    "from bs4 import BeautifulSoup\n",
    "import urllib\n",
    "import csv\n",
    "import pandas as pd\n",
    "import string"
   ]
  },
  {
   "cell_type": "code",
   "execution_count": 108,
   "metadata": {
    "collapsed": true
   },
   "outputs": [],
   "source": [
    "def getTable(link):\n",
    "    web = link\n",
    "    html = urllib.request.urlopen(web).read()\n",
    "    soup = BeautifulSoup(html, \"lxml\")\n",
    "    table = soup.find(\"table\", attrs={'border': \"0\", 'cellspace': \"1\", \"cellpadding\": \"7\", \"width\": \"100%\", \"bgcolor\": \"#ffffff\"})\n",
    "    return(table)"
   ]
  },
  {
   "cell_type": "code",
   "execution_count": 101,
   "metadata": {
    "collapsed": false
   },
   "outputs": [],
   "source": [
    "def getMovie(table):\n",
    "    movieList = []\n",
    "    for row in table:\n",
    "        temp = []\n",
    "        row2 = row.findAll([\"font\"])\n",
    "        if row2!=[]:\n",
    "            for element in row2:\n",
    "                temp.append(element.get_text())\n",
    "        movieList.append(temp)\n",
    "        movies = pd.DataFrame(movieList[1:], columns=columnNames)\n",
    "    return(movies)"
   ]
  },
  {
   "cell_type": "code",
   "execution_count": 135,
   "metadata": {
    "collapsed": false
   },
   "outputs": [
    {
     "name": "stdout",
     "output_type": "stream",
     "text": [
      "Finish page: NUM\n",
      "Finish page: A1\n",
      "Finish page: A2\n",
      "Finish page: A3\n",
      "Finish page: A4\n",
      "Finish page: A5\n",
      "Finish page: A6\n",
      "Finish page: A7\n",
      "Finish page: A8\n",
      "Finish page: A9\n",
      "Finish page: A10\n",
      "Finish page: B1\n",
      "Finish page: B2\n",
      "Finish page: B3\n",
      "Finish page: B4\n",
      "Finish page: B5\n",
      "Finish page: B6\n",
      "Finish page: B7\n",
      "Finish page: B8\n",
      "Finish page: C1\n",
      "Finish page: C2\n",
      "Finish page: C3\n",
      "Finish page: C4\n",
      "Finish page: C5\n",
      "Finish page: C6\n",
      "Finish page: C7\n",
      "Finish page: D1\n",
      "Finish page: D2\n",
      "Finish page: D3\n",
      "Finish page: D4\n",
      "Finish page: D5\n",
      "Finish page: D6\n",
      "Finish page: E1\n",
      "Finish page: E2\n",
      "Finish page: E3\n",
      "Finish page: E4\n",
      "Finish page: E5\n",
      "Finish page: E6\n",
      "Finish page: E7\n",
      "Finish page: F1\n",
      "Finish page: F2\n",
      "Finish page: F3\n",
      "Finish page: F4\n",
      "Finish page: F5\n",
      "Finish page: F6\n",
      "Finish page: G1\n",
      "Finish page: G2\n",
      "Finish page: G3\n",
      "Finish page: G4\n",
      "Finish page: G5\n",
      "Finish page: G6\n",
      "Finish page: G7\n",
      "Finish page: H1\n",
      "Finish page: H2\n",
      "Finish page: H3\n",
      "Finish page: H4\n",
      "Finish page: H5\n",
      "Finish page: H6\n",
      "Finish page: I1\n",
      "Finish page: I2\n",
      "Finish page: I3\n",
      "Finish page: I4\n",
      "Finish page: I5\n",
      "Finish page: I6\n",
      "Finish page: J1\n",
      "Finish page: J2\n",
      "Finish page: J3\n",
      "Finish page: J4\n",
      "Finish page: K1\n",
      "Finish page: K2\n",
      "Finish page: K3\n",
      "Finish page: K4\n",
      "Finish page: L1\n",
      "Finish page: L2\n",
      "Finish page: L3\n",
      "Finish page: L4\n",
      "Finish page: L5\n",
      "Finish page: M1\n",
      "Finish page: M2\n",
      "Finish page: M3\n",
      "Finish page: M4\n",
      "Finish page: M5\n",
      "Finish page: M6\n",
      "Finish page: M7\n",
      "Finish page: N1\n",
      "Finish page: N2\n",
      "Finish page: N3\n",
      "Finish page: N4\n",
      "Finish page: N5\n",
      "Finish page: O1\n",
      "Finish page: O2\n",
      "Finish page: O3\n",
      "Finish page: O4\n",
      "Finish page: O5\n",
      "Finish page: P1\n",
      "Finish page: P2\n",
      "Finish page: P3\n",
      "Finish page: P4\n",
      "Finish page: P5\n",
      "Finish page: P6\n",
      "Finish page: P7\n",
      "Finish page: Q1\n",
      "Finish page: R1\n",
      "Finish page: R2\n",
      "Finish page: R3\n",
      "Finish page: R4\n",
      "Finish page: R5\n",
      "Finish page: R6\n",
      "Finish page: S1\n",
      "Finish page: S2\n",
      "Finish page: S3\n",
      "Finish page: S4\n",
      "Finish page: S5\n",
      "Finish page: S6\n",
      "Finish page: S7\n",
      "Finish page: S8\n",
      "Finish page: S9\n",
      "Finish page: S10\n",
      "Finish page: S11\n",
      "Finish page: S12\n",
      "Finish page: S13\n",
      "Finish page: T1\n",
      "Finish page: T2\n",
      "Finish page: T3\n",
      "Finish page: T4\n",
      "Finish page: T5\n",
      "Finish page: T6\n",
      "Finish page: T7\n",
      "Finish page: T8\n",
      "Finish page: U1\n",
      "Finish page: U2\n",
      "Finish page: V1\n",
      "Finish page: V2\n",
      "Finish page: V3\n",
      "Finish page: W1\n",
      "Finish page: W2\n",
      "Finish page: W3\n",
      "Finish page: W4\n",
      "Finish page: W5\n",
      "Finish page: W6\n",
      "Finish page: X1\n",
      "Finish page: Y1\n",
      "Finish page: Y2\n",
      "Finish page: Z1\n",
      "Finish page: Z2\n"
     ]
    }
   ],
   "source": [
    "alphabet = list(string.ascii_uppercase)\n",
    "columnNames = ['Title', 'Studio', 'Total Gross',  'Total Theaters', 'Opening', 'Opening Theaters', 'open']\n",
    "df = pd.DataFrame()\n",
    "link = \"http://www.boxofficemojo.com/movies/alphabetical.htm?letter=NUM&p=.htm\"\n",
    "df = getMovie(getTable(link))\n",
    "print(\"Finish page: NUM\")\n",
    "for letter in alphabet:\n",
    "    i = 1\n",
    "    while True:\n",
    "        link = \"http://www.boxofficemojo.com/movies/alphabetical.htm?letter=\" + letter + \"&page=\" + str(i) + \"&p=.htm\"\n",
    "        table = getTable(link)\n",
    "        if len(table)==1:\n",
    "            break\n",
    "        df = pd.concat([df, getMovie(table)])\n",
    "        print(\"Finish page: \" + letter + str(i))\n",
    "        i += 1"
   ]
  },
  {
   "cell_type": "code",
   "execution_count": 137,
   "metadata": {
    "collapsed": false
   },
   "outputs": [
    {
     "data": {
      "text/plain": [
       "(16677, 7)"
      ]
     },
     "execution_count": 137,
     "metadata": {},
     "output_type": "execute_result"
    }
   ],
   "source": [
    "df.shape"
   ]
  },
  {
   "cell_type": "code",
   "execution_count": null,
   "metadata": {
    "collapsed": true
   },
   "outputs": [],
   "source": []
  }
 ],
 "metadata": {
  "kernelspec": {
   "display_name": "Python 3",
   "language": "python",
   "name": "python3"
  },
  "language_info": {
   "codemirror_mode": {
    "name": "ipython",
    "version": 3
   },
   "file_extension": ".py",
   "mimetype": "text/x-python",
   "name": "python",
   "nbconvert_exporter": "python",
   "pygments_lexer": "ipython3",
   "version": "3.5.1"
  }
 },
 "nbformat": 4,
 "nbformat_minor": 0
}
