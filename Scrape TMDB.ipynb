{
 "cells": [
  {
   "cell_type": "code",
   "execution_count": 9,
   "metadata": {
    "collapsed": false
   },
   "outputs": [],
   "source": [
    "from bs4 import BeautifulSoup\n",
    "from urllib2 import urlopen\n",
    "import urllib\n",
    "import pandas as pd\n",
    "from __future__ import unicode_literals\n",
    "from django.utils.encoding import smart_str"
   ]
  },
  {
   "cell_type": "code",
   "execution_count": 39,
   "metadata": {
    "collapsed": false
   },
   "outputs": [
    {
     "name": "stdout",
     "output_type": "stream",
     "text": [
      "Collecting django\n",
      "  Downloading Django-1.10.1-py2.py3-none-any.whl (6.8MB)\n",
      "\u001b[K    100% |████████████████████████████████| 6.8MB 99kB/s \n",
      "\u001b[?25hInstalling collected packages: django\n",
      "Successfully installed django-1.10.1\n",
      "\u001b[33mYou are using pip version 8.1.1, however version 8.1.2 is available.\n",
      "You should consider upgrading via the 'pip install --upgrade pip' command.\u001b[0m\n"
     ]
    }
   ],
   "source": [
    "! pip install django"
   ]
  },
  {
   "cell_type": "code",
   "execution_count": null,
   "metadata": {
    "collapsed": true
   },
   "outputs": [],
   "source": [
    "url = []\n",
    "for page in range(980):\n",
    "    web = 'https://www.themoviedb.org/movie?page=' + str(page+1) + '&language=en'\n",
    "    html = urllib.urlopen(web).read()\n",
    "    soup = BeautifulSoup(html,'lxml')\n",
    "    table = soup.findAll('div','image_content')\n",
    "    for p in table:\n",
    "        a = p.findAll('a')\n",
    "        for a in a:\n",
    "            if a.has_attr('href'):\n",
    "                url.append(a['href']) "
   ]
  },
  {
   "cell_type": "code",
   "execution_count": 75,
   "metadata": {
    "collapsed": false
   },
   "outputs": [
    {
     "name": "stdout",
     "output_type": "stream",
     "text": [
      "1\n",
      "2\n"
     ]
    },
    {
     "data": {
      "text/html": [
       "<div>\n",
       "<table border=\"1\" class=\"dataframe\">\n",
       "  <thead>\n",
       "    <tr style=\"text-align: right;\">\n",
       "      <th></th>\n",
       "      <th>0</th>\n",
       "      <th>1</th>\n",
       "      <th>2</th>\n",
       "      <th>3</th>\n",
       "      <th>4</th>\n",
       "      <th>5</th>\n",
       "      <th>6</th>\n",
       "      <th>7</th>\n",
       "      <th>8</th>\n",
       "      <th>9</th>\n",
       "      <th>10</th>\n",
       "      <th>11</th>\n",
       "      <th>12</th>\n",
       "      <th>13</th>\n",
       "      <th>14</th>\n",
       "    </tr>\n",
       "  </thead>\n",
       "  <tbody>\n",
       "    <tr>\n",
       "      <th>0</th>\n",
       "      <td>The Hitchhiker's Guide to the Galaxy (2005)</td>\n",
       "      <td>Status Released</td>\n",
       "      <td>Original Language English</td>\n",
       "      <td>Runtime 1h 49m</td>\n",
       "      <td>Budget $50,000,000.00</td>\n",
       "      <td>Revenue $104,478,416.00</td>\n",
       "      <td>Homepage -</td>\n",
       "      <td>Release Information</td>\n",
       "      <td>Martin Freeman</td>\n",
       "      <td>Zooey Deschanel</td>\n",
       "      <td>Sam Rockwell</td>\n",
       "      <td>Mos Def</td>\n",
       "      <td>John Malkovich</td>\n",
       "      <td>Helen Mirren</td>\n",
       "      <td>Full Cast &amp; Crew</td>\n",
       "    </tr>\n",
       "    <tr>\n",
       "      <th>0</th>\n",
       "      <td>The Road (2009)</td>\n",
       "      <td>Status Released</td>\n",
       "      <td>Original Language English</td>\n",
       "      <td>Runtime 1h 51m</td>\n",
       "      <td>Budget $32,000,000.00</td>\n",
       "      <td>Revenue $27,635,305.00</td>\n",
       "      <td>Homepage http://www.theroad-movie.com/</td>\n",
       "      <td>Release Information</td>\n",
       "      <td>Viggo Mortensen</td>\n",
       "      <td>Kodi Smit-McPhee</td>\n",
       "      <td>Charlize Theron</td>\n",
       "      <td>Robert Duvall</td>\n",
       "      <td>Guy Pearce</td>\n",
       "      <td>Molly Parker</td>\n",
       "      <td>Full Cast &amp; Crew</td>\n",
       "    </tr>\n",
       "  </tbody>\n",
       "</table>\n",
       "</div>"
      ],
      "text/plain": [
       "                                            0                1   \\\n",
       "0  The Hitchhiker's Guide to the Galaxy (2005)  Status Released   \n",
       "0                              The Road (2009)  Status Released   \n",
       "\n",
       "                          2               3                      4   \\\n",
       "0  Original Language English  Runtime 1h 49m  Budget $50,000,000.00   \n",
       "0  Original Language English  Runtime 1h 51m  Budget $32,000,000.00   \n",
       "\n",
       "                        5                                       6   \\\n",
       "0  Revenue $104,478,416.00                              Homepage -   \n",
       "0   Revenue $27,635,305.00  Homepage http://www.theroad-movie.com/   \n",
       "\n",
       "                    7                8                 9                10  \\\n",
       "0  Release Information   Martin Freeman   Zooey Deschanel     Sam Rockwell   \n",
       "0  Release Information  Viggo Mortensen  Kodi Smit-McPhee  Charlize Theron   \n",
       "\n",
       "              11              12            13                14  \n",
       "0        Mos Def  John Malkovich  Helen Mirren  Full Cast & Crew  \n",
       "0  Robert Duvall      Guy Pearce  Molly Parker  Full Cast & Crew  "
      ]
     },
     "execution_count": 75,
     "metadata": {},
     "output_type": "execute_result"
    }
   ],
   "source": [
    "pp = url\n",
    "df = pd.DataFrame()\n",
    "i = 1\n",
    "for link in pp:\n",
    "    web = 'https://www.themoviedb.org' + link\n",
    "    html = urllib.urlopen(web).read()\n",
    "    soup = BeautifulSoup(html,'lxml')\n",
    "\n",
    "    row = []\n",
    "    table = soup.find('div','title')\n",
    "    if type(table) == type(None):\n",
    "        continue\n",
    "    a = table.findAll('a')\n",
    "    for p in a:\n",
    "        row.append(p.get_text().strip())\n",
    "\n",
    "    table = soup.find(\"section\", 'facts left_column')\n",
    "    a = table.findAll('p')\n",
    "#result = [p.string for p in a] \n",
    "    for p in a:\n",
    "        value = p.get_text().strip()\n",
    "        row.append(value)\n",
    "\n",
    "    table = soup.find('section','top_billed')\n",
    "    a = table.findAll('p')\n",
    "    for p in a:\n",
    "        a = p.findAll('a')\n",
    "        for p in a:\n",
    "            value = p.get_text().strip()\n",
    "            row.append(value)\n",
    "    for x in range(len(row)):\n",
    "        row[x] = smart_str(row[x])\n",
    "    df1 = pd.DataFrame(row)\n",
    "    df = pd.concat([df,df1],axis = 1)\n",
    "    print i\n",
    "    i = i+1\n",
    "    \n",
    "df.T"
   ]
  },
  {
   "cell_type": "code",
   "execution_count": 82,
   "metadata": {
    "collapsed": false,
    "scrolled": true
   },
   "outputs": [],
   "source": [
    "df.to_csv('/Users/JJason/Desktop/fuck.csv',index=False)"
   ]
  }
 ],
 "metadata": {
  "kernelspec": {
   "display_name": "Python 2",
   "language": "python",
   "name": "python2"
  },
  "language_info": {
   "codemirror_mode": {
    "name": "ipython",
    "version": 2
   },
   "file_extension": ".py",
   "mimetype": "text/x-python",
   "name": "python",
   "nbconvert_exporter": "python",
   "pygments_lexer": "ipython2",
   "version": "2.7.11"
  }
 },
 "nbformat": 4,
 "nbformat_minor": 0
}
