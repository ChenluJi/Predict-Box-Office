{
 "cells": [
  {
   "cell_type": "markdown",
   "metadata": {},
   "source": [
    "# Random Forest"
   ]
  },
  {
   "cell_type": "code",
   "execution_count": 1,
   "metadata": {
    "collapsed": false
   },
   "outputs": [],
   "source": [
    "%matplotlib inline\n",
    "from sklearn import tree\n",
    "from sklearn.ensemble import RandomForestClassifier\n",
    "from sklearn.ensemble import ExtraTreesClassifier\n",
    "from sklearn.model_selection import cross_val_score\n",
    "from sklearn import preprocessing\n",
    "import matplotlib.pyplot as plt\n",
    "import pandas as pd\n",
    "import numpy as np\n",
    "from collections import Counter\n",
    "import pydotplus \n",
    "from io import StringIO\n",
    "from IPython.display import display, Image\n",
    "from sklearn.externals.six import StringIO\n",
    "import random\n",
    "import seaborn as sns\n",
    "import time"
   ]
  },
  {
   "cell_type": "code",
   "execution_count": 67,
   "metadata": {
    "collapsed": true
   },
   "outputs": [],
   "source": [
    "import pickle"
   ]
  },
  {
   "cell_type": "code",
   "execution_count": 2,
   "metadata": {
    "collapsed": true
   },
   "outputs": [],
   "source": [
    "sns.set_style('whitegrid')\n",
    "sns.set(color_codes=True)"
   ]
  },
  {
   "cell_type": "code",
   "execution_count": 3,
   "metadata": {
    "collapsed": true
   },
   "outputs": [],
   "source": [
    "# split into 9 levels\n",
    "def MoneyToCate(input_list):\n",
    "    out = [];\n",
    "    for m in input_list:\n",
    "        if m <= 1000000:\n",
    "            out.append(0)\n",
    "        elif m > 1000000 and m <= 10000000:\n",
    "            out.append(1)\n",
    "        elif m > 10000000 and m <= 20000000:\n",
    "            out.append(2)\n",
    "        elif m > 20000000 and m <= 40000000:\n",
    "            out.append(3)\n",
    "        elif m > 40000000 and m <= 65000000:\n",
    "            out.append(4)\n",
    "        elif m > 64000000 and m <= 100000000:\n",
    "            out.append(5)\n",
    "        elif m > 100000000 and m <= 150000000:\n",
    "            out.append(6)\n",
    "        elif m > 150000000 and m <= 200000000:\n",
    "            out.append(7)\n",
    "        else:\n",
    "            out.append(8)\n",
    "    return(out)"
   ]
  },
  {
   "cell_type": "code",
   "execution_count": null,
   "metadata": {
    "collapsed": true
   },
   "outputs": [],
   "source": [
    "# split into 9 levels\n",
    "# def MoneyToCate2(input_list):\n",
    "#     out = [];\n",
    "#     for m in input_list:\n",
    "#         if m <= 1000000:\n",
    "#             out.append(0)\n",
    "#         elif m > 1000000 and m <= 2000000:\n",
    "#             out.append(1)\n",
    "#         elif m > 2000000 and m <= 20000000:\n",
    "#             out.append(2)\n",
    "#         elif m > 20000000 and m <= 40000000:\n",
    "#             out.append(3)\n",
    "#         elif m > 40000000 and m <= 65000000:\n",
    "#             out.append(4)\n",
    "#         elif m > 64000000 and m <= 100000000:\n",
    "#             out.append(5)\n",
    "#         elif m > 100000000 and m <= 150000000:\n",
    "#             out.append(6)\n",
    "#         elif m > 150000000 and m <= 200000000:\n",
    "#             out.append(7)\n",
    "#         else:\n",
    "#             out.append(8)\n",
    "#     return(out)"
   ]
  },
  {
   "cell_type": "code",
   "execution_count": 28,
   "metadata": {
    "collapsed": true
   },
   "outputs": [],
   "source": [
    "def Bag(input_list, bag_list):\n",
    "    n = len(bag_list)\n",
    "    output = []\n",
    "    for obs in input_list:\n",
    "        feature = [0]*n\n",
    "        for word in bag_list:\n",
    "            if word in obs:\n",
    "                feature[bag_list.index(word)] = 1\n",
    "        output.append(feature)\n",
    "    return output"
   ]
  },
  {
   "cell_type": "code",
   "execution_count": 50,
   "metadata": {
    "collapsed": false
   },
   "outputs": [
    {
     "data": {
      "text/plain": [
       "Index([                   'studio',             'director_name',\n",
       "         'director_facebook_likes',    'num_critic_for_reviews',\n",
       "          'actor_1_facebook_likes',    'actor_2_facebook_likes',\n",
       "          'actor_3_facebook_likes', 'cast_total_facebook_likes',\n",
       "                          'genres',                  'genres.1',\n",
       "                     'Unnamed: 11',               'Unnamed: 12',\n",
       "                     'Unnamed: 13',               'Unnamed: 14',\n",
       "                     'Unnamed: 15',           'num_voted_users',\n",
       "                   'plot_keywords',               'Unnamed: 18',\n",
       "                     'Unnamed: 19',               'Unnamed: 20',\n",
       "                     'Unnamed: 21',               'Unnamed: 22',\n",
       "            'num_user_for_reviews',                'imdb_score',\n",
       "                    'aspect_ratio',      'movie_facebook_likes',\n",
       "                          'rating',                      'Year',\n",
       "                          'Status',                  'Language',\n",
       "                         'Runtime',                    'Budget',\n",
       "           'Annual Average Budget',                   'Revenue',\n",
       "          'Annual Average Revenue',                           8,\n",
       "                                 9,                          10,\n",
       "                                11,                          12,\n",
       "                                13],\n",
       "      dtype='object')"
      ]
     },
     "execution_count": 50,
     "metadata": {},
     "output_type": "execute_result"
    }
   ],
   "source": [
    "table1 = pd.read_excel(\"Data Merged( Kaggle TMDB Studio, no NAs).xlsx\", index_col=0)\n",
    "table1.columns"
   ]
  },
  {
   "cell_type": "code",
   "execution_count": 51,
   "metadata": {
    "collapsed": true
   },
   "outputs": [],
   "source": [
    "genre = np.matrix(table1[['genres.1', 'Unnamed: 11', 'Unnamed: 12', 'Unnamed: 13', 'Unnamed: 14', 'Unnamed: 15']]).tolist()\n",
    "bag_genre = list(set([val for sublist in genre for val in sublist]))\n",
    "bag_genre.remove(bag_genre[0])"
   ]
  },
  {
   "cell_type": "code",
   "execution_count": 52,
   "metadata": {
    "collapsed": true
   },
   "outputs": [],
   "source": [
    "keywords = np.matrix(table1[['Unnamed: 18', 'Unnamed: 19', 'Unnamed: 20', 'Unnamed: 21', 'Unnamed: 22']]).tolist()\n",
    "bag_keywords = list(set([val for sublist in keywords for val in sublist]))\n",
    "bag_keywords.remove(bag_keywords[0])"
   ]
  },
  {
   "cell_type": "code",
   "execution_count": 53,
   "metadata": {
    "collapsed": false
   },
   "outputs": [],
   "source": [
    "actor = np.matrix(table1[[8, 9, 10, 11, 12, 13]]).tolist()\n",
    "bag_actor = list(set([val for sublist in actor for val in sublist]))\n",
    "bag_actor.remove(bag_actor[0])"
   ]
  },
  {
   "cell_type": "code",
   "execution_count": 54,
   "metadata": {
    "collapsed": false
   },
   "outputs": [],
   "source": [
    "table1['Revenue'] = MoneyToCate(list(table1['Revenue']))\n",
    "table1['Budget'] = MoneyToCate(list(table1['Budget']))\n",
    "table1['Annual Average Revenue'] = MoneyToCate(list(table1['Annual Average Revenue']))\n",
    "table1_director_name = pd.get_dummies(table1['director_name']).values\n",
    "table1_genres = Bag(genre, bag_genre)\n",
    "table1_keywords = Bag(keywords, bag_keywords)\n",
    "table1_actor = Bag(actor, bag_actor)\n",
    "table1_studio = pd.get_dummies(table1['studio']).values\n",
    "table1_rating = pd.get_dummies(table1['rating']).values\n",
    "table1_Language = pd.get_dummies(table1['Language']).values\n",
    "table1 = table1.drop(['genres', 'genres.1', 'Unnamed: 11', 'Unnamed: 12', 'Unnamed: 13', 'Unnamed: 14', 'Unnamed: 15',\n",
    "                      'plot_keywords', 'Annual Average Budget',\n",
    "                      'Unnamed: 18', 'Unnamed: 19', 'Unnamed: 20', 'Unnamed: 21', 'Unnamed: 22', 'rating', 'Status', 'Runtime', \n",
    "                      8, 9, 10, 11, 12, 13, 'director_name', 'studio', 'Language'], axis=1)\n",
    "table2 = table1.drop('Revenue', axis=1)"
   ]
  },
  {
   "cell_type": "code",
   "execution_count": 55,
   "metadata": {
    "collapsed": false
   },
   "outputs": [
    {
     "data": {
      "text/plain": [
       "(2409, 11943)"
      ]
     },
     "execution_count": 55,
     "metadata": {},
     "output_type": "execute_result"
    }
   ],
   "source": [
    "Y = table1['Revenue']\n",
    "X = np.column_stack([table2, table1_director_name, table1_genres, table1_keywords, table1_actor, table1_studio, \n",
    "                     table1_rating, table1_Language])\n",
    "X.shape"
   ]
  },
  {
   "cell_type": "code",
   "execution_count": 35,
   "metadata": {
    "collapsed": false
   },
   "outputs": [
    {
     "data": {
      "text/plain": [
       "Counter({'Action': 704,\n",
       "         'Adventure': 587,\n",
       "         'Animation': 149,\n",
       "         'Biography': 164,\n",
       "         'Comedy': 901,\n",
       "         'Crime': 462,\n",
       "         'Documentary': 15,\n",
       "         'Drama': 1136,\n",
       "         'Family': 301,\n",
       "         'Fantasy': 342,\n",
       "         'Film-Noir': 3,\n",
       "         'History': 101,\n",
       "         'Horror': 225,\n",
       "         'Music': 89,\n",
       "         'Musical': 48,\n",
       "         'Mystery': 271,\n",
       "         'News': 1,\n",
       "         'Romance': 523,\n",
       "         'Sci-Fi': 361,\n",
       "         'Sport': 94,\n",
       "         'Thriller': 781,\n",
       "         'War': 100,\n",
       "         'Western': 41})"
      ]
     },
     "execution_count": 35,
     "metadata": {},
     "output_type": "execute_result"
    }
   ],
   "source": [
    "# all genres and counts\n",
    "Allgenres = list([val for sublist in genre for val in sublist])\n",
    "Allgenres = Counter(Allgenres)\n",
    "del Allgenres[list(Allgenres.keys())[0]]\n",
    "Allgenres\n",
    "#del Allgenres[Allgenres.keys()[0]]"
   ]
  },
  {
   "cell_type": "code",
   "execution_count": 12,
   "metadata": {
    "collapsed": false
   },
   "outputs": [
    {
     "data": {
      "image/png": "[encoded data removed]",
      "text/plain": [
       "<matplotlib.figure.Figure at 0x114dc7320>"
      ]
     },
     "metadata": {},
     "output_type": "display_data"
    }
   ],
   "source": [
    "plt.plot(table1['Year'], table1['Revenue'], 'ro')\n",
    "plt.show()"
   ]
  },
  {
   "cell_type": "code",
   "execution_count": 13,
   "metadata": {
    "collapsed": false
   },
   "outputs": [
    {
     "data": {
      "image/png": "[encoded data removed]",
      "text/plain": [
       "<matplotlib.figure.Figure at 0x11772a2b0>"
      ]
     },
     "metadata": {},
     "output_type": "display_data"
    }
   ],
   "source": [
    "plt.plot(table1['Budget'], table1['Revenue'], 'ro')\n",
    "plt.show()"
   ]
  },
  {
   "cell_type": "code",
   "execution_count": 124,
   "metadata": {
    "collapsed": false
   },
   "outputs": [],
   "source": [
    "clf = RandomForestClassifier(n_estimators=10)\n",
    "clf = clf.fit(X[100:], Y[100:])"
   ]
  },
  {
   "cell_type": "code",
   "execution_count": 56,
   "metadata": {
    "collapsed": false
   },
   "outputs": [
    {
     "name": "stdout",
     "output_type": "stream",
     "text": [
      "[0, 0.24313582826956642]\n",
      "[1, 0.27006660164006646]\n",
      "[2, 0.27228484086936489]\n",
      "[3, 0.27930972142132693]\n",
      "[4, 0.31091265611830204]\n",
      "[5, 0.2738564905163442]\n",
      "[6, 0.28630653121427108]\n",
      "[7, 0.29754286934817215]\n",
      "[8, 0.28921734961746709]\n",
      "[9, 0.2905329352240521]\n",
      "[10, 0.29509595624900659]\n",
      "[11, 0.29682034396746931]\n",
      "[12, 0.29676728932713492]\n",
      "[13, 0.28472727941279319]\n",
      "[14, 0.29341585719529462]\n",
      "[15, 0.30874539008984209]\n",
      "[16, 0.28343924534262432]\n",
      "[17, 0.30089565982313488]\n",
      "[18, 0.30465564595505296]\n",
      "[19, 0.30217067757689514]\n"
     ]
    }
   ],
   "source": [
    "# Cross-Validation for selecting max_features\n",
    "score_decision = []\n",
    "for i in range(20):\n",
    "    clf = tree.DecisionTreeClassifier(max_features=(i+1)/20, random_state=0)\n",
    "    score = cross_val_score(clf, X, Y, cv=5).mean()\n",
    "    score_decision.append(score)\n",
    "    print([i, score])"
   ]
  },
  {
   "cell_type": "code",
   "execution_count": 57,
   "metadata": {
    "collapsed": false
   },
   "outputs": [],
   "source": [
    "max_feature = [(x+1)/20 for x in range(20)]\n",
    "DecisionTree = pd.DataFrame()\n",
    "DecisionTree[\"max_features\"] = max_feature\n",
    "DecisionTree[\"precision\"] = score_decision\n",
    "DecisionTree.to_csv(\"Decision Tree Precision.csv\")"
   ]
  },
  {
   "cell_type": "code",
   "execution_count": 58,
   "metadata": {
    "collapsed": false
   },
   "outputs": [
    {
     "data": {
      "image/png": "[encoded data removed]",
      "text/plain": [
       "<matplotlib.figure.Figure at 0x12f139048>"
      ]
     },
     "metadata": {},
     "output_type": "display_data"
    }
   ],
   "source": [
    "plt.plot(max_feature, score_decision, 'r.')\n",
    "plt.xlabel('Max Features')\n",
    "plt.ylabel('Precision')\n",
    "plt.title('5-fold Cross Validation Precision of Decision Tree Model')\n",
    "plt.savefig('DecisionTree.pdf')\n",
    "plt.show()"
   ]
  },
  {
   "cell_type": "code",
   "execution_count": 22,
   "metadata": {
    "collapsed": false
   },
   "outputs": [
    {
     "data": {
      "image/png": "[encoded data removed]",
      "text/plain": [
       "<matplotlib.figure.Figure at 0x118897e80>"
      ]
     },
     "metadata": {},
     "output_type": "display_data"
    }
   ],
   "source": [
    "plt.plot(n_estimators, score_decision, 'r.')\n",
    "plt.xlabel('Number of Estimators')\n",
    "plt.ylabel('Precision')\n",
    "plt.title('5-fold Cross Validation Precision of Decision Tree Model--Predict Revenue')\n",
    "plt.savefig('Random Forest.pdf')\n",
    "plt.show()"
   ]
  },
  {
   "cell_type": "code",
   "execution_count": 19,
   "metadata": {
    "collapsed": false
   },
   "outputs": [
    {
     "data": {
      "image/png": "[encoded data removed]",
      "text/plain": [
       "<matplotlib.figure.Figure at 0x1154c87b8>"
      ]
     },
     "metadata": {},
     "output_type": "display_data"
    }
   ],
   "source": [
    "fig = plt.figure()\n",
    "ax = fig.add_subplot(111, projection='3d')\n",
    "ax.scatter(n_estimators, max_feature, score_decision, 'r.')\n",
    "ax.set_xlabel('n_estimators')\n",
    "ax.set_ylabel('max_feature')\n",
    "ax.set_zlabel('5-fold CV score')\n",
    "plt.title('5-fold Cross Validation Precision of Random Model')\n",
    "plt.savefig('RandomForest3d.pdf')\n",
    "plt.show()"
   ]
  },
  {
   "cell_type": "code",
   "execution_count": 5,
   "metadata": {
    "collapsed": false
   },
   "outputs": [],
   "source": [
    "data = [[0, 0, 0.34993818673719995],\n",
    "[0, 1, 0.34404501172950441],\n",
    "[0, 2, 0.34656923170762582],\n",
    "[0, 3, 0.33991701794283591],\n",
    "[0, 4, 0.33368600752472627],\n",
    "[1, 0, 0.35409779803621866],\n",
    "[1, 1, 0.35074712108301709],\n",
    "[1, 2, 0.33951607732828681],\n",
    "[1, 3, 0.35569628735427067],\n",
    "[1, 4, 0.34992414681605943],\n",
    "[2, 0, 0.35907542261906056],\n",
    "[2, 1, 0.35283313242850106],\n",
    "[2, 2, 0.34950160663375385],\n",
    "[2, 3, 0.35405107287928794],\n",
    "[2, 4, 0.34868787428151621],\n",
    "[3, 0, 0.35656668768094313],\n",
    "[3, 1, 0.35697129495088425],\n",
    "[3, 2, 0.34618967489976932],\n",
    "[3, 3, 0.36318424278521444],\n",
    "[3, 4, 0.35118531875309539],\n",
    "[4, 0, 0.35239823432468825],\n",
    "[4, 1, 0.35157350266253673],\n",
    "[4, 2, 0.35199202018220344],\n",
    "[4, 3, 0.35902097606183375],\n",
    "[4, 4, 0.35324622589758192],\n",
    "[5, 0, 0.35864232549220765],\n",
    "[5, 1, 0.35866548861921255],\n",
    "[5, 2, 0.35824896537550954],\n",
    "[5, 3, 0.36110173607297141],\n",
    "[5, 4, 0.3557298782913495],\n",
    "[6, 0, 0.3607602455066663],\n",
    "[6, 1, 0.36777538765183754],\n",
    "[6, 2, 0.35781500532372157],\n",
    "[6, 3, 0.35862755178060529],\n",
    "[6, 4, 0.35116032229839445],\n",
    "[7, 0, 0.3582576571785665],\n",
    "[7, 1, 0.36862258153820981],\n",
    "[7, 2, 0.35697992151552738],\n",
    "[7, 3, 0.35777870797686478],\n",
    "[7, 4, 0.35448073007437203],\n",
    "[8, 0, 0.36240272122113504],\n",
    "[8, 1, 0.36695585358511956],\n",
    "[8, 2, 0.35531501592757392],\n",
    "[8, 3, 0.36192197104247342],\n",
    "[8, 4, 0.35531057324230819],\n",
    "[9, 0, 0.36115093102738088],\n",
    "[9, 1, 0.36362507200645172],\n",
    "[9, 2, 0.35449293693628747],\n",
    "[9, 3, 0.36234469463510688],\n",
    "[9, 4, 0.35697465921862176],\n",
    "[10, 0, 0.35950233035954221],\n",
    "[10, 1, 0.36032104454614944],\n",
    "[10, 2, 0.35531668750158973],\n",
    "[10, 3, 0.35945225109202072],\n",
    "[10, 4, 0.35697209263740559],\n",
    "[11, 0, 0.36407103439012134],\n",
    "[11, 1, 0.36238014028805854],\n",
    "[11, 2, 0.35614917264630247],\n",
    "[11, 3, 0.35820313522577923],\n",
    "[11, 4, 0.35447118657741],\n",
    "[12, 0, 0.36159006701795482],\n",
    "[12, 1, 0.36239924867015932],\n",
    "[12, 2, 0.3549138058130481],\n",
    "[12, 3, 0.36193415651621208],\n",
    "[12, 4, 0.35572730101604499],\n",
    "[13, 0, 0.36576460255122606],\n",
    "[13, 1, 0.36613633021248998],\n",
    "[13, 2, 0.3524250098312306],\n",
    "[13, 3, 0.36361556086022573],\n",
    "[13, 4, 0.35615258022733537],\n",
    "[14, 0, 0.36534097325730391],\n",
    "[14, 1, 0.3682058644585614],\n",
    "[14, 2, 0.35283992593391905],\n",
    "[14, 3, 0.36610871343766016],\n",
    "[14, 4, 0.35738357977088447],\n",
    "[15, 0, 0.36575496200205598],\n",
    "[15, 1, 0.36738030249068165],\n",
    "[15, 2, 0.35489647675125963],\n",
    "[15, 3, 0.3631833047331896],\n",
    "[15, 4, 0.35531926477689424],\n",
    "[16, 0, 0.36244499273024072],\n",
    "[16, 1, 0.36861389000362371],\n",
    "[16, 2, 0.35489995972785293],\n",
    "[16, 3, 0.36279089389954633]]"
   ]
  },
  {
   "cell_type": "code",
   "execution_count": 9,
   "metadata": {
    "collapsed": true
   },
   "outputs": [],
   "source": [
    "n_estimators = [(x[0]+1)*20 for x in data]\n",
    "max_feature = [(x[1]+1)/5 for x in data]\n",
    "score_decision = [x[2] for x in data]"
   ]
  },
  {
   "cell_type": "code",
   "execution_count": 8,
   "metadata": {
    "collapsed": true
   },
   "outputs": [],
   "source": [
    "import matplotlib.pyplot as plt\n",
    "from mpl_toolkits.mplot3d import Axes3D"
   ]
  },
  {
   "cell_type": "code",
   "execution_count": null,
   "metadata": {
    "collapsed": true
   },
   "outputs": [],
   "source": []
  },
  {
   "cell_type": "code",
   "execution_count": null,
   "metadata": {
    "collapsed": true
   },
   "outputs": [],
   "source": [
    "DecisionTree = pd.DataFrame()\n",
    "DecisionTree[\"max_features\"] = max_feature\n",
    "DecisionTree[\"precision\"] = score_decision\n",
    "DecisionTree.to_csv(\"Decision Tree Precision.csv\")"
   ]
  },
  {
   "cell_type": "code",
   "execution_count": 41,
   "metadata": {
    "collapsed": false
   },
   "outputs": [],
   "source": [
    "# Cross-Validation for selecting n_estimators \n",
    "start = time.time()\n",
    "score = []\n",
    "for i in range(50):\n",
    "    clf = RandomForestClassifier(n_estimators=10*(i+1), min_samples_split=2, random_state=0)\n",
    "    scores = cross_val_score(clf, X, Y, cv=5)\n",
    "    score.append(scores.mean())\n",
    "    print(str(i) + \": \" + str(scores.mean()))\n",
    "print(\"Time elapsed: \" + str(time.time()-start) + \"sec.\\n\")\n",
    "plt.plot(range(50), score, 'r.')\n",
    "plt.show()"
   ]
  },
  {
   "cell_type": "code",
   "execution_count": 74,
   "metadata": {
    "collapsed": true
   },
   "outputs": [],
   "source": [
    "with open('Random Forest score.pickle', 'wb') as f:\n",
    "    # Pickle the 'data' dictionary using the highest protocol available.\n",
    "    pickle.dump(RandomForest, f)"
   ]
  },
  {
   "cell_type": "code",
   "execution_count": 75,
   "metadata": {
    "collapsed": false
   },
   "outputs": [],
   "source": [
    "with open('Random Forest score.pickle', 'rb') as f:\n",
    "    score1 = pickle.load(f)"
   ]
  },
  {
   "cell_type": "code",
   "execution_count": 85,
   "metadata": {
    "collapsed": false
   },
   "outputs": [],
   "source": [
    "RandomForest = pd.DataFrame()\n",
    "RandomForest[\"n_estimators\"] = n_estimators\n",
    "RandomForest[\"precision\"] = score\n",
    "RandomForest.to_csv(\"Random Forest Precision.csv\")"
   ]
  },
  {
   "cell_type": "code",
   "execution_count": 60,
   "metadata": {
    "collapsed": false
   },
   "outputs": [],
   "source": [
    "n_estimators = [(x+1)*10 for x in range(54)]"
   ]
  },
  {
   "cell_type": "code",
   "execution_count": 105,
   "metadata": {
    "collapsed": false
   },
   "outputs": [],
   "source": [
    "plt.plot(n_estimators, score, 'r.')\n",
    "plt.xlabel('Number of Estimators')\n",
    "plt.ylabel('Precision')\n",
    "plt.title('5-fold Cross Validation Precision of Random Forest Model')\n",
    "plt.savefig('RandomForest.pdf')\n",
    "plt.show()"
   ]
  },
  {
   "cell_type": "code",
   "execution_count": null,
   "metadata": {
    "collapsed": true
   },
   "outputs": [],
   "source": [
    "irange = "
   ]
  },
  {
   "cell_type": "code",
   "execution_count": null,
   "metadata": {
    "collapsed": false
   },
   "outputs": [],
   "source": [
    "# Cross-Validation for selecting n_estimators and max_feature\n",
    "start = time.time()\n",
    "scores = []\n",
    "n_estimators = []\n",
    "max_features = []\n",
    "for i in range(25):\n",
    "    for j in range(5):\n",
    "        clf = RandomForestClassifier(n_estimators=20*(i+1), max_features=(j+1)/5, min_samples_split=2, random_state=0)\n",
    "        score = cross_val_score(clf, X, Y, cv=5).mean()\n",
    "        n_estimators.append(i)\n",
    "        max_features.append(j)\n",
    "        scores.append(score)\n",
    "        print([i, j, score])\n",
    "print(\"Time elapsed: \" + str(time.time()-start) + \"sec.\\n\")"
   ]
  },
  {
   "cell_type": "code",
   "execution_count": 107,
   "metadata": {
    "collapsed": false
   },
   "outputs": [
    {
     "data": {
      "text/plain": [
       "0.29015140787034766"
      ]
     },
     "execution_count": 107,
     "metadata": {},
     "output_type": "execute_result"
    }
   ],
   "source": [
    "clf = RandomForestClassifier(n_estimators=250, min_samples_split=2, random_state=0)\n",
    "scores = cross_val_score(clf, X, Y, cv=5)\n",
    "scores.mean()"
   ]
  },
  {
   "cell_type": "code",
   "execution_count": 50,
   "metadata": {
    "collapsed": false
   },
   "outputs": [
    {
     "data": {
      "text/plain": [
       "0.32124161679559576"
      ]
     },
     "execution_count": 50,
     "metadata": {},
     "output_type": "execute_result"
    }
   ],
   "source": [
    "clf = ExtraTreesClassifier(n_estimators=220, max_depth=None,\n",
    "     min_samples_split=2, random_state=0)\n",
    "scores = cross_val_score(clf, X, Y, cv=5)\n",
    "scores.mean()"
   ]
  },
  {
   "cell_type": "code",
   "execution_count": 38,
   "metadata": {
    "collapsed": false
   },
   "outputs": [
    {
     "data": {
      "text/plain": [
       "dict_values([53, 49, 752, 616, 373, 319, 156, 65, 26])"
      ]
     },
     "execution_count": 38,
     "metadata": {},
     "output_type": "execute_result"
    }
   ],
   "source": [
    "Budget = MoneyToCate2(list(table1['Budget']))\n",
    "Counter(Budget).values()"
   ]
  },
  {
   "cell_type": "code",
   "execution_count": 12,
   "metadata": {
    "collapsed": false
   },
   "outputs": [
    {
     "data": {
      "text/plain": [
       "dict_values([200, 224, 345, 309, 302, 284, 307, 196, 242])"
      ]
     },
     "execution_count": 12,
     "metadata": {},
     "output_type": "execute_result"
    }
   ],
   "source": [
    "Revenue = MoneyToCate(list(table1['Revenue']))\n",
    "Counter(Revenue).values()"
   ]
  },
  {
   "cell_type": "code",
   "execution_count": 8,
   "metadata": {
    "collapsed": true
   },
   "outputs": [],
   "source": [
    "# majority vote\n",
    "def Majority(pred_tuple, weight_list):\n",
    "    pred_major = []\n",
    "    for pred in pred_tuple:\n",
    "        pred_dic = {}\n",
    "        for yhat, w in zip(pred, weight_list):\n",
    "            if yhat in pred_dic:\n",
    "                pred_dic[yhat] += w\n",
    "            else:\n",
    "                pred_dic[yhat] = w\n",
    "        maxium = max(pred_dic, key=pred_dic.get)\n",
    "        pred_major.append(maxium)\n",
    "#         print(pred)\n",
    "#         print(maxium)\n",
    "    return(pred_major)"
   ]
  }
 ],
 "metadata": {
  "kernelspec": {
   "display_name": "Python 3",
   "language": "python",
   "name": "python3"
  },
  "language_info": {
   "codemirror_mode": {
    "name": "ipython",
    "version": 3
   },
   "file_extension": ".py",
   "mimetype": "text/x-python",
   "name": "python",
   "nbconvert_exporter": "python",
   "pygments_lexer": "ipython3",
   "version": "3.5.1"
  }
 },
 "nbformat": 4,
 "nbformat_minor": 0
}
