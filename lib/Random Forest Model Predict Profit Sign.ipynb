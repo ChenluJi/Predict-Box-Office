{
 "cells": [
  {
   "cell_type": "markdown",
   "metadata": {},
   "source": [
    "# Random Forest"
   ]
  },
  {
   "cell_type": "code",
   "execution_count": 1,
   "metadata": {
    "collapsed": false
   },
   "outputs": [],
   "source": [
    "%matplotlib inline\n",
    "from sklearn import tree\n",
    "from sklearn.ensemble import RandomForestClassifier\n",
    "from sklearn.ensemble import ExtraTreesClassifier\n",
    "from sklearn.model_selection import cross_val_score\n",
    "from sklearn import preprocessing\n",
    "import matplotlib.pyplot as plt\n",
    "import pandas as pd\n",
    "import numpy as np\n",
    "from collections import Counter\n",
    "import pydotplus \n",
    "from io import StringIO\n",
    "from IPython.display import display, Image\n",
    "from sklearn.externals.six import StringIO\n",
    "import random\n",
    "import seaborn as sns\n",
    "import time"
   ]
  },
  {
   "cell_type": "code",
   "execution_count": 2,
   "metadata": {
    "collapsed": true
   },
   "outputs": [],
   "source": [
    "sns.set_style('whitegrid')\n",
    "sns.set(color_codes=True)"
   ]
  },
  {
   "cell_type": "code",
   "execution_count": 3,
   "metadata": {
    "collapsed": true
   },
   "outputs": [],
   "source": [
    "# split into 9 levels\n",
    "def MoneyToCate(input_list):\n",
    "    out = [];\n",
    "    for m in input_list:\n",
    "        if m <= 1000000:\n",
    "            out.append(0)\n",
    "        elif m > 1000000 and m <= 10000000:\n",
    "            out.append(1)\n",
    "        elif m > 10000000 and m <= 20000000:\n",
    "            out.append(2)\n",
    "        elif m > 20000000 and m <= 40000000:\n",
    "            out.append(3)\n",
    "        elif m > 40000000 and m <= 65000000:\n",
    "            out.append(4)\n",
    "        elif m > 64000000 and m <= 100000000:\n",
    "            out.append(5)\n",
    "        elif m > 100000000 and m <= 150000000:\n",
    "            out.append(6)\n",
    "        elif m > 150000000 and m <= 200000000:\n",
    "            out.append(7)\n",
    "        else:\n",
    "            out.append(8)\n",
    "    return(out)"
   ]
  },
  {
   "cell_type": "code",
   "execution_count": 4,
   "metadata": {
    "collapsed": true
   },
   "outputs": [],
   "source": [
    "def Bag(input_list, bag_list):\n",
    "    n = len(bag_list)\n",
    "    output = []\n",
    "    for obs in input_list:\n",
    "        feature = [0]*n\n",
    "        for word in bag_list:\n",
    "            if word in obs:\n",
    "                feature[bag_list.index(word)] = 1\n",
    "        output.append(feature)\n",
    "    return output"
   ]
  },
  {
   "cell_type": "code",
   "execution_count": 29,
   "metadata": {
    "collapsed": false
   },
   "outputs": [
    {
     "data": {
      "text/plain": [
       "Index([                   'studio',             'director_name',\n",
       "         'director_facebook_likes',    'num_critic_for_reviews',\n",
       "          'actor_1_facebook_likes',    'actor_2_facebook_likes',\n",
       "          'actor_3_facebook_likes', 'cast_total_facebook_likes',\n",
       "                          'genres',                  'genres.1',\n",
       "                     'Unnamed: 11',               'Unnamed: 12',\n",
       "                     'Unnamed: 13',               'Unnamed: 14',\n",
       "                     'Unnamed: 15',           'num_voted_users',\n",
       "                   'plot_keywords',               'Unnamed: 18',\n",
       "                     'Unnamed: 19',               'Unnamed: 20',\n",
       "                     'Unnamed: 21',               'Unnamed: 22',\n",
       "            'num_user_for_reviews',                'imdb_score',\n",
       "                    'aspect_ratio',      'movie_facebook_likes',\n",
       "                          'rating',                      'Year',\n",
       "                          'Status',                  'Language',\n",
       "                         'Runtime',                    'Budget',\n",
       "           'Annual Average Budget',                   'Revenue',\n",
       "          'Annual Average Revenue',                           8,\n",
       "                                 9,                          10,\n",
       "                                11,                          12,\n",
       "                                13],\n",
       "      dtype='object')"
      ]
     },
     "execution_count": 29,
     "metadata": {},
     "output_type": "execute_result"
    }
   ],
   "source": [
    "table1 = pd.read_excel(\"Data Merged( Kaggle TMDB Studio, no NAs).xlsx\", index_col=0)\n",
    "table1.columns"
   ]
  },
  {
   "cell_type": "code",
   "execution_count": 30,
   "metadata": {
    "collapsed": true
   },
   "outputs": [],
   "source": [
    "genre = np.matrix(table1[['genres.1', 'Unnamed: 11', 'Unnamed: 12', 'Unnamed: 13', 'Unnamed: 14', 'Unnamed: 15']]).tolist()\n",
    "bag_genre = list(set([val for sublist in genre for val in sublist]))\n",
    "bag_genre.remove(bag_genre[0])"
   ]
  },
  {
   "cell_type": "code",
   "execution_count": 31,
   "metadata": {
    "collapsed": true
   },
   "outputs": [],
   "source": [
    "keywords = np.matrix(table1[['Unnamed: 18', 'Unnamed: 19', 'Unnamed: 20', 'Unnamed: 21', 'Unnamed: 22']]).tolist()\n",
    "bag_keywords = list(set([val for sublist in keywords for val in sublist]))\n",
    "bag_keywords.remove(bag_keywords[0])"
   ]
  },
  {
   "cell_type": "code",
   "execution_count": 32,
   "metadata": {
    "collapsed": false
   },
   "outputs": [],
   "source": [
    "actor = np.matrix(table1[[8, 9, 10, 11, 12, 13]]).tolist()\n",
    "bag_actor = list(set([val for sublist in actor for val in sublist]))\n",
    "bag_actor.remove(bag_actor[0])"
   ]
  },
  {
   "cell_type": "code",
   "execution_count": 33,
   "metadata": {
    "collapsed": false
   },
   "outputs": [
    {
     "name": "stderr",
     "output_type": "stream",
     "text": [
      "/Users/admin/anaconda/lib/python3.5/site-packages/ipykernel/__main__.py:2: SettingWithCopyWarning: \n",
      "A value is trying to be set on a copy of a slice from a DataFrame\n",
      "\n",
      "See the caveats in the documentation: http://pandas.pydata.org/pandas-docs/stable/indexing.html#indexing-view-versus-copy\n",
      "  from ipykernel import kernelapp as app\n"
     ]
    }
   ],
   "source": [
    "table1['Sign'] = np.sign(np.subtract(table1['Revenue'], table1['Budget']))\n",
    "table1['Sign'][table1['Sign']==0] = 1\n",
    "#table1['Sign'][table1['Sign']==-1] = 0\n",
    "# table1['Revenue'] = MoneyToCate(list(table1['Revenue']))\n",
    "table1['Budget'] = MoneyToCate(list(table1['Budget']))\n",
    "table1['Annual Average Revenue'] = MoneyToCate(list(table1['Annual Average Revenue']))\n",
    "table1_director_name = pd.get_dummies(table1['director_name']).values\n",
    "table1_genres = Bag(genre, bag_genre)\n",
    "table1_keywords = Bag(keywords, bag_keywords)\n",
    "table1_actor = Bag(actor, bag_actor)\n",
    "table1_studio = pd.get_dummies(table1['studio']).values\n",
    "table1_rating = pd.get_dummies(table1['rating']).values\n",
    "table1_Language = pd.get_dummies(table1['Language']).values\n",
    "table1 = table1.drop(['genres', 'genres.1', 'Unnamed: 11', 'Unnamed: 12', 'Unnamed: 13', 'Unnamed: 14', 'Unnamed: 15',\n",
    "                      'plot_keywords', 'Annual Average Budget', 'Revenue',\n",
    "                      'Unnamed: 18', 'Unnamed: 19', 'Unnamed: 20', 'Unnamed: 21', 'Unnamed: 22', 'rating', 'Status', 'Runtime', \n",
    "                      8, 9, 10, 11, 12, 13, 'director_name', 'studio', 'Language'], axis=1)\n",
    "table2 = table1.drop('Sign', axis=1)"
   ]
  },
  {
   "cell_type": "code",
   "execution_count": 34,
   "metadata": {
    "collapsed": false
   },
   "outputs": [
    {
     "data": {
      "text/plain": [
       "(2409, 11943)"
      ]
     },
     "execution_count": 34,
     "metadata": {},
     "output_type": "execute_result"
    }
   ],
   "source": [
    "Y = table1['Sign']\n",
    "X = np.column_stack([table2, table1_director_name, table1_genres, table1_keywords, table1_actor, table1_studio, \n",
    "                     table1_rating, table1_Language])\n",
    "X.shape"
   ]
  },
  {
   "cell_type": "code",
   "execution_count": 35,
   "metadata": {
    "collapsed": false
   },
   "outputs": [
    {
     "data": {
      "text/plain": [
       "Counter({'Action': 704,\n",
       "         'Adventure': 587,\n",
       "         'Animation': 149,\n",
       "         'Biography': 164,\n",
       "         'Comedy': 901,\n",
       "         'Crime': 462,\n",
       "         'Documentary': 15,\n",
       "         'Drama': 1136,\n",
       "         'Family': 301,\n",
       "         'Fantasy': 342,\n",
       "         'Film-Noir': 3,\n",
       "         'History': 101,\n",
       "         'Horror': 225,\n",
       "         'Music': 89,\n",
       "         'Musical': 48,\n",
       "         'Mystery': 271,\n",
       "         'News': 1,\n",
       "         'Romance': 523,\n",
       "         'Sci-Fi': 361,\n",
       "         'Sport': 94,\n",
       "         'Thriller': 781,\n",
       "         'War': 100,\n",
       "         'Western': 41})"
      ]
     },
     "execution_count": 35,
     "metadata": {},
     "output_type": "execute_result"
    }
   ],
   "source": [
    "# all genres and counts\n",
    "Allgenres = list([val for sublist in genre for val in sublist])\n",
    "Allgenres = Counter(Allgenres)\n",
    "del Allgenres[list(Allgenres.keys())[0]]\n",
    "Allgenres"
   ]
  },
  {
   "cell_type": "code",
   "execution_count": 35,
   "metadata": {
    "collapsed": false
   },
   "outputs": [
    {
     "data": {
      "image/png": "[encoded data removed]",
      "text/plain": [
       "<matplotlib.figure.Figure at 0x123b6df28>"
      ]
     },
     "metadata": {},
     "output_type": "display_data"
    }
   ],
   "source": [
    "plt.plot(table1['Year'], table1['Sign'], 'ro')\n",
    "plt.show()"
   ]
  },
  {
   "cell_type": "code",
   "execution_count": 36,
   "metadata": {
    "collapsed": false
   },
   "outputs": [
    {
     "data": {
      "image/png": "[encoded data removed]",
      "text/plain": [
       "<matplotlib.figure.Figure at 0x123b70748>"
      ]
     },
     "metadata": {},
     "output_type": "display_data"
    }
   ],
   "source": [
    "plt.plot(table1['Budget'], table1['Sign'], 'ro')\n",
    "plt.show()"
   ]
  },
  {
   "cell_type": "code",
   "execution_count": 37,
   "metadata": {
    "collapsed": false
   },
   "outputs": [
    {
     "name": "stdout",
     "output_type": "stream",
     "text": [
      "[0, 0.7400756705104532]\n",
      "[1, 0.75170430822604728]\n",
      "[2, 0.75376953637823196]\n",
      "[3, 0.76042750825359517]\n",
      "[4, 0.75918355048789832]\n",
      "[5, 0.74712189494798198]\n",
      "[6, 0.74834347008260049]\n",
      "[7, 0.7608295347425782]\n",
      "[8, 0.75458908502386768]\n",
      "[9, 0.754573589356198]\n",
      "[10, 0.74461504026721426]\n",
      "[11, 0.7658105310279224]\n",
      "[12, 0.76082609126087397]\n",
      "[13, 0.76375563332085072]\n",
      "[14, 0.74960292351596691]\n",
      "[15, 0.75832268006181047]\n",
      "[16, 0.76374702461658983]\n",
      "[17, 0.75293793554663113]\n",
      "[18, 0.75876602833124573]\n",
      "[19, 0.75957524653176833]\n"
     ]
    }
   ],
   "source": [
    "# Cross-Validation for selecting max_features\n",
    "score_decision = []\n",
    "for i in range(20):\n",
    "    clf = tree.DecisionTreeClassifier(max_features=(i+1)/20, random_state=0)\n",
    "    score = cross_val_score(clf, X, Y, cv=5).mean()\n",
    "    score_decision.append(score)\n",
    "    print([i, score]) "
   ]
  },
  {
   "cell_type": "code",
   "execution_count": 38,
   "metadata": {
    "collapsed": false
   },
   "outputs": [],
   "source": [
    "max_feature = [(x+1)/20 for x in range(20)]\n",
    "DecisionTree = pd.DataFrame()\n",
    "DecisionTree[\"max_features\"] = max_feature\n",
    "DecisionTree[\"precision\"] = score_decision\n",
    "DecisionTree.to_csv(\"Decision Tree Precision.csv\")"
   ]
  },
  {
   "cell_type": "code",
   "execution_count": 41,
   "metadata": {
    "collapsed": false
   },
   "outputs": [
    {
     "data": {
      "image/png": "[encoded data removed]",
      "text/plain": [
       "<matplotlib.figure.Figure at 0x128edd2e8>"
      ]
     },
     "metadata": {},
     "output_type": "display_data"
    }
   ],
   "source": [
    "plt.plot(max_feature, score_decision, 'r.')\n",
    "plt.xlabel('Max Features')\n",
    "plt.ylabel('Precision')\n",
    "plt.title('5-fold Cross Validation Precision of Decision Tree Model: Profit Or Loss')\n",
    "plt.savefig('DecisionTree Profit Or Loss.pdf')\n",
    "plt.show()"
   ]
  },
  {
   "cell_type": "code",
   "execution_count": 42,
   "metadata": {
    "collapsed": false
   },
   "outputs": [
    {
     "data": {
      "text/plain": [
       "True"
      ]
     },
     "execution_count": 42,
     "metadata": {},
     "output_type": "execute_result"
    }
   ],
   "source": [
    "clf = tree.DecisionTreeClassifier(random_state=0)\n",
    "clf.fit(X, Y)\n",
    "dot_data = StringIO()\n",
    "tree.export_graphviz(clf, out_file=dot_data,\n",
    "                     class_names=[\"Loss\", \"Profit\"],\n",
    "                     filled=True, rounded=True,\n",
    "                     special_characters=True)\n",
    "graph = pydotplus.graph_from_dot_data(dot_data.getvalue())\n",
    "graph.write_png('Decision Tree Compared with Profit Or Loss.png')"
   ]
  },
  {
   "cell_type": "code",
   "execution_count": null,
   "metadata": {
    "collapsed": true
   },
   "outputs": [],
   "source": [
    "clf = tree.DecisionTreeClassifier(random_state=0)\n",
    "clf.fit(X, Y)\n",
    "dot_data = StringIO()\n",
    "tree.export_graphviz(clf, out_file=dot_data,\n",
    "                     class_names=[\"loss\", \"profit\"],\n",
    "                     filled=True, rounded=True,\n",
    "                     special_characters=True)\n",
    "graph = pydotplus.graph_from_dot_data(dot_data.getvalue())\n",
    "display(Image(graph.create_png()))"
   ]
  },
  {
   "cell_type": "code",
   "execution_count": 40,
   "metadata": {
    "collapsed": false
   },
   "outputs": [
    {
     "name": "stdout",
     "output_type": "stream",
     "text": [
      "0: 0.781640216423\n",
      "1: 0.783724383724\n",
      "2: 0.78123130297\n",
      "3: 0.783310305049\n",
      "4: 0.788715710455\n",
      "5: 0.785805107544\n",
      "6: 0.78622090796\n",
      "7: 0.787468309207\n",
      "8: 0.785389307128\n",
      "9: 0.78622090796\n",
      "10: 0.787884109623\n",
      "11: 0.78622090796\n",
      "12: 0.786636708376\n",
      "13: 0.787884109623\n",
      "14: 0.784557706297\n",
      "15: 0.784973506713\n",
      "16: 0.784973506713\n",
      "17: 0.78622090796\n",
      "18: 0.784973506713\n",
      "19: 0.786636708376\n",
      "20: 0.787052508792\n",
      "21: 0.788299910039\n",
      "22: 0.788299910039\n",
      "23: 0.789131510871\n",
      "24: 0.788715710455\n",
      "25: 0.789547311286\n",
      "26: 0.790378912118\n",
      "27: 0.789547311286\n",
      "28: 0.790378912118\n",
      "29: 0.790378912118\n",
      "30: 0.789547311286\n",
      "31: 0.789547311286\n",
      "32: 0.789547311286\n",
      "33: 0.789963111702\n",
      "34: 0.789131510871\n",
      "35: 0.789547311286\n",
      "36: 0.789131510871\n",
      "37: 0.789547311286\n",
      "38: 0.790378912118\n",
      "39: 0.790794712534\n",
      "40: 0.789963111702\n",
      "41: 0.789963111702\n",
      "42: 0.790794712534\n",
      "43: 0.789963111702\n",
      "44: 0.789963111702\n",
      "45: 0.790378912118\n",
      "46: 0.789963111702\n",
      "47: 0.789963111702\n",
      "48: 0.79121051295\n",
      "49: 0.791626313365\n",
      "Time elapsed: 7897.593013048172sec.\n",
      "\n"
     ]
    },
    {
     "data": {
      "image/png": "[encoded data removed]",
      "text/plain": [
       "<matplotlib.figure.Figure at 0x128f70828>"
      ]
     },
     "metadata": {},
     "output_type": "display_data"
    }
   ],
   "source": [
    "# Cross-Validation for selecting n_estimators \n",
    "start = time.time()\n",
    "score = []\n",
    "for i in range(50):\n",
    "    clf = RandomForestClassifier(n_estimators=10*(i+1), min_samples_split=2, random_state=0)\n",
    "    scores = cross_val_score(clf, X, Y, cv=5)\n",
    "    score.append(scores.mean())\n",
    "    print(str(i) + \": \" + str(scores.mean()))\n",
    "print(\"Time elapsed: \" + str(time.time()-start) + \"sec.\\n\")\n",
    "plt.plot(range(50), score, 'r.')\n",
    "plt.show()"
   ]
  },
  {
   "cell_type": "code",
   "execution_count": 49,
   "metadata": {
    "collapsed": false
   },
   "outputs": [],
   "source": [
    "n_estimators = [10*(x+1) for x in range(50)]\n",
    "RandomForest = pd.DataFrame()\n",
    "RandomForest[\"n_estimators\"] = n_estimators\n",
    "RandomForest[\"precision\"] = score\n",
    "RandomForest.to_csv(\"Random Forest Precision Compared with Profit Or Loss.csv\")"
   ]
  },
  {
   "cell_type": "code",
   "execution_count": 51,
   "metadata": {
    "collapsed": false
   },
   "outputs": [
    {
     "data": {
      "image/png": "[encoded data removed]",
      "text/plain": [
       "<matplotlib.figure.Figure at 0x1157a7b38>"
      ]
     },
     "metadata": {},
     "output_type": "display_data"
    }
   ],
   "source": [
    "plt.plot(n_estimators, score, 'r.')\n",
    "plt.xlabel('Number of Estimators')\n",
    "plt.ylabel('Precision')\n",
    "plt.title('5-fold Cross Validation Precision of Random Forest Model: Profit Or Loss')\n",
    "plt.savefig('RandomForest Compared with Profit Or Loss.pdf')\n",
    "plt.show()"
   ]
  },
  {
   "cell_type": "code",
   "execution_count": null,
   "metadata": {
    "collapsed": false
   },
   "outputs": [],
   "source": [
    "# Cross-Validation for selecting n_estimators and max_feature\n",
    "start = time.time()\n",
    "scores = []\n",
    "n_estimators = []\n",
    "max_features = []\n",
    "for i in range(25):\n",
    "    for j in range(5):\n",
    "        clf = RandomForestClassifier(n_estimators=20*(i+1), max_features=(j+1)/5, min_samples_split=2, random_state=0)\n",
    "        score = cross_val_score(clf, X, Y, cv=5).mean()\n",
    "        n_estimators.append(i)\n",
    "        max_features.append(j)\n",
    "        scores.append(score)\n",
    "        print([i, j, score])\n",
    "print(\"Time elapsed: \" + str(time.time()-start) + \"sec.\\n\")"
   ]
  },
  {
   "cell_type": "code",
   "execution_count": 107,
   "metadata": {
    "collapsed": false
   },
   "outputs": [
    {
     "data": {
      "text/plain": [
       "0.29015140787034766"
      ]
     },
     "execution_count": 107,
     "metadata": {},
     "output_type": "execute_result"
    }
   ],
   "source": [
    "clf = RandomForestClassifier(n_estimators=250, min_samples_split=2, random_state=0)\n",
    "scores = cross_val_score(clf, X, Y, cv=5)\n",
    "scores.mean()"
   ]
  },
  {
   "cell_type": "code",
   "execution_count": 50,
   "metadata": {
    "collapsed": false
   },
   "outputs": [
    {
     "data": {
      "text/plain": [
       "0.32124161679559576"
      ]
     },
     "execution_count": 50,
     "metadata": {},
     "output_type": "execute_result"
    }
   ],
   "source": [
    "clf = ExtraTreesClassifier(n_estimators=220, max_depth=None,\n",
    "     min_samples_split=2, random_state=0)\n",
    "scores = cross_val_score(clf, X, Y, cv=5)\n",
    "scores.mean()"
   ]
  },
  {
   "cell_type": "code",
   "execution_count": 38,
   "metadata": {
    "collapsed": false
   },
   "outputs": [
    {
     "data": {
      "text/plain": [
       "dict_values([53, 49, 752, 616, 373, 319, 156, 65, 26])"
      ]
     },
     "execution_count": 38,
     "metadata": {},
     "output_type": "execute_result"
    }
   ],
   "source": [
    "Budget = MoneyToCate2(list(table1['Budget']))\n",
    "Counter(Budget).values()"
   ]
  },
  {
   "cell_type": "code",
   "execution_count": 12,
   "metadata": {
    "collapsed": false
   },
   "outputs": [
    {
     "data": {
      "text/plain": [
       "dict_values([200, 224, 345, 309, 302, 284, 307, 196, 242])"
      ]
     },
     "execution_count": 12,
     "metadata": {},
     "output_type": "execute_result"
    }
   ],
   "source": [
    "Revenue = MoneyToCate(list(table1['Revenue']))\n",
    "Counter(Revenue).values()"
   ]
  },
  {
   "cell_type": "code",
   "execution_count": 8,
   "metadata": {
    "collapsed": true
   },
   "outputs": [],
   "source": [
    "# majority vote\n",
    "def Majority(pred_tuple, weight_list):\n",
    "    pred_major = []\n",
    "    for pred in pred_tuple:\n",
    "        pred_dic = {}\n",
    "        for yhat, w in zip(pred, weight_list):\n",
    "            if yhat in pred_dic:\n",
    "                pred_dic[yhat] += w\n",
    "            else:\n",
    "                pred_dic[yhat] = w\n",
    "        maxium = max(pred_dic, key=pred_dic.get)\n",
    "        pred_major.append(maxium)\n",
    "#         print(pred)\n",
    "#         print(maxium)\n",
    "    return(pred_major)"
   ]
  }
 ],
 "metadata": {
  "kernelspec": {
   "display_name": "Python 3",
   "language": "python",
   "name": "python3"
  },
  "language_info": {
   "codemirror_mode": {
    "name": "ipython",
    "version": 3
   },
   "file_extension": ".py",
   "mimetype": "text/x-python",
   "name": "python",
   "nbconvert_exporter": "python",
   "pygments_lexer": "ipython3",
   "version": "3.5.1"
  }
 },
 "nbformat": 4,
 "nbformat_minor": 0
}
