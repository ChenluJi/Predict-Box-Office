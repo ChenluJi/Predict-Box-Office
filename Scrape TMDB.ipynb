{
 "cells": [
  {
   "cell_type": "code",
   "execution_count": 2,
   "metadata": {
    "collapsed": false
   },
   "outputs": [],
   "source": [
    "from bs4 import BeautifulSoup\n",
    "from urllib2 import urlopen\n",
    "import urllib\n",
    "import pandas as pd\n",
    "from __future__ import unicode_literals\n",
    "from django.utils.encoding import smart_str"
   ]
  },
  {
   "cell_type": "code",
   "execution_count": 39,
   "metadata": {
    "collapsed": false
   },
   "outputs": [
    {
     "name": "stdout",
     "output_type": "stream",
     "text": [
      "Collecting django\n",
      "  Downloading Django-1.10.1-py2.py3-none-any.whl (6.8MB)\n",
      "\u001b[K    100% |████████████████████████████████| 6.8MB 99kB/s \n",
      "\u001b[?25hInstalling collected packages: django\n",
      "Successfully installed django-1.10.1\n",
      "\u001b[33mYou are using pip version 8.1.1, however version 8.1.2 is available.\n",
      "You should consider upgrading via the 'pip install --upgrade pip' command.\u001b[0m\n"
     ]
    }
   ],
   "source": [
    "! pip install django"
   ]
  },
  {
   "cell_type": "code",
   "execution_count": 3,
   "metadata": {
    "collapsed": true
   },
   "outputs": [],
   "source": [
    "url = []\n",
    "for page in range(980):\n",
    "    web = 'https://www.themoviedb.org/movie?page=' + str(page+1) + '&language=en'\n",
    "    html = urllib.urlopen(web).read()\n",
    "    soup = BeautifulSoup(html,'lxml')\n",
    "    table = soup.findAll('div','image_content')\n",
    "    for p in table:\n",
    "        a = p.findAll('a')\n",
    "        for a in a:\n",
    "            if a.has_attr('href'):\n",
    "                url.append(a['href']) "
   ]
  },
  {
   "cell_type": "code",
   "execution_count": null,
   "metadata": {
    "collapsed": false,
    "scrolled": false
   },
   "outputs": [
    {
     "name": "stdout",
     "output_type": "stream",
     "text": [
      "15001\n"
     ]
    }
   ],
   "source": [
    "pp = url[15001:]\n",
    "df = pd.DataFrame()\n",
    "i = 15001\n",
    "for link in pp:\n",
    "    web = 'https://www.themoviedb.org' + link\n",
    "    html = urllib.urlopen(web).read()\n",
    "    soup = BeautifulSoup(html,'lxml')\n",
    "\n",
    "    row = []\n",
    "    table = soup.find('div','title')\n",
    "    if type(table) == type(None):\n",
    "        print i\n",
    "        i = i+1\n",
    "        continue\n",
    "    a = table.findAll('a')\n",
    "    for p in a:\n",
    "        row.append(p.get_text().strip())\n",
    "\n",
    "    table = soup.find(\"section\", 'facts left_column')\n",
    "    a = table.findAll('p')\n",
    "#result = [p.string for p in a] \n",
    "    for p in a:\n",
    "        value = p.get_text().strip()\n",
    "        row.append(value)\n",
    "\n",
    "    table = soup.find('section','top_billed')\n",
    "    a = table.findAll('p')\n",
    "    for p in a:\n",
    "        a = p.findAll('a')\n",
    "        for p in a:\n",
    "            value = p.get_text().strip()\n",
    "            row.append(value)\n",
    "    for x in range(len(row)):\n",
    "        row[x] = smart_str(row[x])\n",
    "    df1 = pd.DataFrame(row)\n",
    "    df = pd.concat([df,df1],axis = 1)\n",
    "    print i\n",
    "    i = i+1\n",
    "    \n",
    "df.T"
   ]
  },
  {
   "cell_type": "code",
   "execution_count": 10,
   "metadata": {
    "collapsed": false,
    "scrolled": true
   },
   "outputs": [],
   "source": [
    "df.T.to_csv('/Users/JJason/Desktop/fuck3.csv',index=False)"
   ]
  },
  {
   "cell_type": "code",
   "execution_count": 1,
   "metadata": {
    "collapsed": false
   },
   "outputs": [
    {
     "ename": "NameError",
     "evalue": "name 'df' is not defined",
     "output_type": "error",
     "traceback": [
      "\u001b[0;31m---------------------------------------------------------------------------\u001b[0m",
      "\u001b[0;31mNameError\u001b[0m                                 Traceback (most recent call last)",
      "\u001b[0;32m<ipython-input-1-7ed0097d7e9e>\u001b[0m in \u001b[0;36m<module>\u001b[0;34m()\u001b[0m\n\u001b[0;32m----> 1\u001b[0;31m \u001b[0mdf\u001b[0m\u001b[0;34m\u001b[0m\u001b[0m\n\u001b[0m",
      "\u001b[0;31mNameError\u001b[0m: name 'df' is not defined"
     ]
    }
   ],
   "source": [
    "df"
   ]
  },
  {
   "cell_type": "code",
   "execution_count": null,
   "metadata": {
    "collapsed": true
   },
   "outputs": [],
   "source": []
  }
 ],
 "metadata": {
  "kernelspec": {
   "display_name": "Python 2",
   "language": "python",
   "name": "python2"
  },
  "language_info": {
   "codemirror_mode": {
    "name": "ipython",
    "version": 2
   },
   "file_extension": ".py",
   "mimetype": "text/x-python",
   "name": "python",
   "nbconvert_exporter": "python",
   "pygments_lexer": "ipython2",
   "version": "2.7.11"
  }
 },
 "nbformat": 4,
 "nbformat_minor": 0
}
